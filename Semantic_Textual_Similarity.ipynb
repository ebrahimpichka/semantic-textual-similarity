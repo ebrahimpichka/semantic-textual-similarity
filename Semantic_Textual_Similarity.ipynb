{
  "nbformat": 4,
  "nbformat_minor": 0,
  "metadata": {
    "colab": {
      "name": "Semantic Textual Similarity.ipynb",
      "provenance": [],
      "collapsed_sections": []
    },
    "kernelspec": {
      "display_name": "Python 3",
      "name": "python3"
    }
  },
  "cells": [
    {
      "cell_type": "markdown",
      "metadata": {
        "id": "C7gBZUj6-OjO"
      },
      "source": [
        "# **Semantic Textual Similarity using word2vec and Clustering**\r\n",
        "--------------------------------------------------------------------------------\r\n",
        "\r\n",
        "## Overview\r\n",
        "Here we have a data-set containig titles and descriptions of the products of an online retail market. Some records may do not have any description.\r\n",
        "\r\n",
        "\r\n",
        "\r\n",
        "**Goal:** Our goal is to come up with a way to find similar products to any new unlabled product based on its title an description.\r\n",
        "\r\n",
        "--------------------------------------------------------------------------------\r\n",
        "\r\n",
        "## General Approach\r\n",
        "Our general approach is to:\r\n",
        "\r\n",
        "1.   Preprocess the texts (titles and descriptions of the products), consisting of following steps:\r\n",
        "\r\n",
        "   *   removing common unnecessary words and stop words.\r\n",
        "   *   removing words with only digits, which usually represent a serial number a product.\r\n",
        "   *   removing words consisting of both numbers and english characters, which usually represent a specific model of a product.\r\n",
        "   *   tokenizing the remaining texts.\r\n",
        "\r\n",
        "\r\n",
        "2.   Embed the words of our vocabulary to 100 dimensional vectors using **word2vec** algorithm.\r\n",
        "3.   Find the vectors indicating each product of our data-set by calculating the **mean** of the word vectors in the description + title.\r\n",
        "4.   Segment the dataset to appropriate number of clusters with **Density-based spatial clustering of applications with noise (DBSCAN) clustering** algorithm.\r\n",
        "\r\n",
        "\r\n",
        "After the segmentaion of the products we could assign a category to each cluster by analysing the members of that cluster.\r\n",
        "\r\n",
        "To get **'N'** most similar products to a new unseen product we could measure **Cosine Silmilarity** between the vector of the description + title and all the cluster centroids. The most similar cluster will be the main category of the new product and 'N' most similar vectors of the products within that cluster to the vector of the new product will be our suggestions.\r\n",
        "\r\n",
        "--------------------------------------------------------------------------------\r\n",
        "## **Additional Information**\r\n",
        "\r\n",
        "**word2vec algorithm**: The word2vec algorithm uses a neural network model to learn word associations from a large corpus of text. Once trained, such a model can detect synonymous words or suggest additional words for a partial sentence. As the name implies, word2vec represents each distinct word with a vector.\r\n",
        "\r\n",
        "here are two articles about word2vec algorithm:\r\n",
        "\r\n",
        "\r\n",
        "1.   [A Beginner's Guide to Word2Vec and Neural Word Embeddings](https://wiki.pathmind.com/word2vec)\r\n",
        "2.   [Word2Vec Explained](https://israelg99.github.io/2017-03-23-Word2Vec-Explained/)\r\n",
        "\r\n",
        "\r\n",
        "\r\n",
        "**DBSCAN Clusternig**: Here is a great article about [DBSCAN Algorithm and How it works.](https://www.mygreatlearning.com/blog/dbscan-algorithm/#:~:text=DBSCAN%20is%20a%20clustering%20algorithm%20that%20defines%20clusters,hyperparameters%3A%20epsilon%20and%20minPoints%20to%20arrive%20at%20clusters.)\r\n",
        "\r\n",
        "**Cosine Similarity**: Cosine similarity is a measure of calculating distance between vectors. It is calculated as\r\n",
        " \r\n",
        "![cosine-similarity.png](data:image/png;base64,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)\r\n"
      ]
    },
    {
      "cell_type": "code",
      "metadata": {
        "id": "-nVuZflr-fw_"
      },
      "source": [
        "import pandas as pd\n",
        "import numpy as np\n",
        "from sklearn.feature_extraction.text import CountVectorizer,TfidfVectorizer\n",
        "from gensim.models import Word2Vec\n",
        "import re"
      ],
      "execution_count": 1,
      "outputs": []
    },
    {
      "cell_type": "markdown",
      "metadata": {
        "id": "Ky57lSSlwCuc"
      },
      "source": [
        "### Loading the data set\r\n"
      ]
    },
    {
      "cell_type": "code",
      "metadata": {
        "id": "LLYey6nb_Mr_"
      },
      "source": [
        "df = pd.read_csv('/content/drive/My Drive/NLP @LOOP/products_information.csv')"
      ],
      "execution_count": 2,
      "outputs": []
    },
    {
      "cell_type": "code",
      "metadata": {
        "colab": {
          "base_uri": "https://localhost:8080/",
          "height": 194
        },
        "id": "4OEtB-kM_Q0u",
        "outputId": "a3cdd574-ce75-46e1-e4f5-e92fad80faea"
      },
      "source": [
        "df.drop(columns=['Unnamed: 0'],inplace=True)\n",
        "df.sample(5)"
      ],
      "execution_count": 3,
      "outputs": [
        {
          "output_type": "execute_result",
          "data": {
            "text/html": [
              "<div>\n",
              "<style scoped>\n",
              "    .dataframe tbody tr th:only-of-type {\n",
              "        vertical-align: middle;\n",
              "    }\n",
              "\n",
              "    .dataframe tbody tr th {\n",
              "        vertical-align: top;\n",
              "    }\n",
              "\n",
              "    .dataframe thead th {\n",
              "        text-align: right;\n",
              "    }\n",
              "</style>\n",
              "<table border=\"1\" class=\"dataframe\">\n",
              "  <thead>\n",
              "    <tr style=\"text-align: right;\">\n",
              "      <th></th>\n",
              "      <th>title_fa</th>\n",
              "      <th>review_description</th>\n",
              "    </tr>\n",
              "  </thead>\n",
              "  <tbody>\n",
              "    <tr>\n",
              "      <th>197538</th>\n",
              "      <td>محافظ صفحه نمایش شیشه لاین 25D مناسب گوشی اپل ...</td>\n",
              "      <td>NaN</td>\n",
              "    </tr>\n",
              "    <tr>\n",
              "      <th>179948</th>\n",
              "      <td>انگشتر باربد ویکتوریا سنگ ماه تولد عقیق لکه برفی</td>\n",
              "      <td>خواص درمانی سنگ طبیعی معدنی عقیق لکه برفیهضم خ...</td>\n",
              "    </tr>\n",
              "    <tr>\n",
              "      <th>37448</th>\n",
              "      <td>کیف اداری چرم ناب K101</td>\n",
              "      <td>کیف اداری چرم کدk101تولید چرم صددرصد طبیعی گاو...</td>\n",
              "    </tr>\n",
              "    <tr>\n",
              "      <th>238355</th>\n",
              "      <td>پازل 1000 تکه راونزبرگر Village Harbor</td>\n",
              "      <td>NaN</td>\n",
              "    </tr>\n",
              "    <tr>\n",
              "      <th>185299</th>\n",
              "      <td>میوه خوری لکورد Fall2</td>\n",
              "      <td>NaN</td>\n",
              "    </tr>\n",
              "  </tbody>\n",
              "</table>\n",
              "</div>"
            ],
            "text/plain": [
              "                                                 title_fa                                 review_description\n",
              "197538  محافظ صفحه نمایش شیشه لاین 25D مناسب گوشی اپل ...                                                NaN\n",
              "179948   انگشتر باربد ویکتوریا سنگ ماه تولد عقیق لکه برفی  خواص درمانی سنگ طبیعی معدنی عقیق لکه برفیهضم خ...\n",
              "37448                              کیف اداری چرم ناب K101  کیف اداری چرم کدk101تولید چرم صددرصد طبیعی گاو...\n",
              "238355             پازل 1000 تکه راونزبرگر Village Harbor                                                NaN\n",
              "185299                              میوه خوری لکورد Fall2                                                NaN"
            ]
          },
          "metadata": {
            "tags": []
          },
          "execution_count": 3
        }
      ]
    },
    {
      "cell_type": "code",
      "metadata": {
        "colab": {
          "base_uri": "https://localhost:8080/"
        },
        "id": "FG-PE2z_W9fy",
        "outputId": "463b7548-53f5-4e69-8c51-68112e1d8a97"
      },
      "source": [
        "# Regex pattern test for numbers and alphabet+number combinations\r\n",
        "pattern = r'[A-Za-z]*[0-9]+[A-Za-z]*'\r\n",
        "text = 'glow گردنبند طلا 18 عیار زنانه گالری G325'\r\n",
        "print(re.findall(pattern,text))"
      ],
      "execution_count": 4,
      "outputs": [
        {
          "output_type": "stream",
          "text": [
            "['18', 'G325']\n"
          ],
          "name": "stdout"
        }
      ]
    },
    {
      "cell_type": "code",
      "metadata": {
        "colab": {
          "base_uri": "https://localhost:8080/"
        },
        "id": "kagFh19EbCMV",
        "outputId": "55f9a000-f8da-4e92-89f5-a184fc2743ef"
      },
      "source": [
        "# Regex pattern test for numbers and alphabet+number combinations\r\n",
        "pattern = r'[A-Za-z]*[0-9]+[A-Za-z]*'\r\n",
        "text = 'اتو موی پروویو PW5102در ساخت اتو مو  پروویو  Prowave  PW5102  فناوری PTC NTC شده عملکرد تاثیر بسزایی فناوری PTC باعث می اتو مو کمترین بیشترین حرارت برسد  حداکثر دمای PW5102 دستگاه استفاده فناوری PTC ظرف 8 ثانیه دما می رسد فناوری NTC پخش حرارت صفحات صورت یکسان مربوط می شکل دستگاه موها کاملا یکنواخت صاف قابلیت تنظیم دما امکان کاربر فراهم می کند باتوجه نوع موی دمای اتو مو حد مناسبی تنظیم کند صفحه نمایش سیم گردان ولتاژ جهانی خصوصیات اتو مو  پروویو  Prowave  PW5102  محسوب می گفتنی سایز صفحات اتو مو متوسط ببیشتر کسانی موهای کوتاه مناسب صاف موهای بلند بهتر اتو مو صفحات پهن شود'\r\n",
        "print((re.sub(pattern,'',text)).split())"
      ],
      "execution_count": 5,
      "outputs": [
        {
          "output_type": "stream",
          "text": [
            "['اتو', 'موی', 'پروویو', 'در', 'ساخت', 'اتو', 'مو', 'پروویو', 'Prowave', 'فناوری', 'PTC', 'NTC', 'شده', 'عملکرد', 'تاثیر', 'بسزایی', 'فناوری', 'PTC', 'باعث', 'می', 'اتو', 'مو', 'کمترین', 'بیشترین', 'حرارت', 'برسد', 'حداکثر', 'دمای', 'دستگاه', 'استفاده', 'فناوری', 'PTC', 'ظرف', 'ثانیه', 'دما', 'می', 'رسد', 'فناوری', 'NTC', 'پخش', 'حرارت', 'صفحات', 'صورت', 'یکسان', 'مربوط', 'می', 'شکل', 'دستگاه', 'موها', 'کاملا', 'یکنواخت', 'صاف', 'قابلیت', 'تنظیم', 'دما', 'امکان', 'کاربر', 'فراهم', 'می', 'کند', 'باتوجه', 'نوع', 'موی', 'دمای', 'اتو', 'مو', 'حد', 'مناسبی', 'تنظیم', 'کند', 'صفحه', 'نمایش', 'سیم', 'گردان', 'ولتاژ', 'جهانی', 'خصوصیات', 'اتو', 'مو', 'پروویو', 'Prowave', 'محسوب', 'می', 'گفتنی', 'سایز', 'صفحات', 'اتو', 'مو', 'متوسط', 'ببیشتر', 'کسانی', 'موهای', 'کوتاه', 'مناسب', 'صاف', 'موهای', 'بلند', 'بهتر', 'اتو', 'مو', 'صفحات', 'پهن', 'شود']\n"
          ],
          "name": "stdout"
        }
      ]
    },
    {
      "cell_type": "markdown",
      "metadata": {
        "id": "G82B8I2EwOSD"
      },
      "source": [
        "### Preprocessing"
      ]
    },
    {
      "cell_type": "code",
      "metadata": {
        "id": "YWmysvYMoRsb"
      },
      "source": [
        "# replacing NaNs with empty string in order to concatinate titles an descriptions\r\n",
        "df.fillna('',inplace=True)\r\n",
        "df['text'] = df['title_fa'] + ' ' + df['review_description']"
      ],
      "execution_count": 6,
      "outputs": []
    },
    {
      "cell_type": "code",
      "metadata": {
        "id": "7sGz0zDuqU6_",
        "colab": {
          "base_uri": "https://localhost:8080/",
          "height": 194
        },
        "outputId": "c2a6f048-08c9-4c9d-81c1-d309a884bc43"
      },
      "source": [
        "df['text'].sample(5).to_frame()"
      ],
      "execution_count": 7,
      "outputs": [
        {
          "output_type": "execute_result",
          "data": {
            "text/html": [
              "<div>\n",
              "<style scoped>\n",
              "    .dataframe tbody tr th:only-of-type {\n",
              "        vertical-align: middle;\n",
              "    }\n",
              "\n",
              "    .dataframe tbody tr th {\n",
              "        vertical-align: top;\n",
              "    }\n",
              "\n",
              "    .dataframe thead th {\n",
              "        text-align: right;\n",
              "    }\n",
              "</style>\n",
              "<table border=\"1\" class=\"dataframe\">\n",
              "  <thead>\n",
              "    <tr style=\"text-align: right;\">\n",
              "      <th></th>\n",
              "      <th>text</th>\n",
              "    </tr>\n",
              "  </thead>\n",
              "  <tbody>\n",
              "    <tr>\n",
              "      <th>78817</th>\n",
              "      <td>کفش مخصوص دویدن مردانه آدیداس Adistar</td>\n",
              "    </tr>\n",
              "    <tr>\n",
              "      <th>45743</th>\n",
              "      <td>کابل تبدیل USBC OTG مکا MC23 طول 015 متر</td>\n",
              "    </tr>\n",
              "    <tr>\n",
              "      <th>158062</th>\n",
              "      <td>کتاب کتاب حمام مامانم اثر راحله عابدین نیا</td>\n",
              "    </tr>\n",
              "    <tr>\n",
              "      <th>295328</th>\n",
              "      <td>ساعت مچی عقربه مردانه ریتم S1414R01 ترکیب دوست...</td>\n",
              "    </tr>\n",
              "    <tr>\n",
              "      <th>24853</th>\n",
              "      <td>ظرف وارمر برلینگر هاوس BH1382 کمپانی هوم ایمکس...</td>\n",
              "    </tr>\n",
              "  </tbody>\n",
              "</table>\n",
              "</div>"
            ],
            "text/plain": [
              "                                                     text\n",
              "78817              کفش مخصوص دویدن مردانه آدیداس Adistar \n",
              "45743           کابل تبدیل USBC OTG مکا MC23 طول 015 متر \n",
              "158062        کتاب کتاب حمام مامانم اثر راحله عابدین نیا \n",
              "295328  ساعت مچی عقربه مردانه ریتم S1414R01 ترکیب دوست...\n",
              "24853   ظرف وارمر برلینگر هاوس BH1382 کمپانی هوم ایمکس..."
            ]
          },
          "metadata": {
            "tags": []
          },
          "execution_count": 7
        }
      ]
    },
    {
      "cell_type": "code",
      "metadata": {
        "id": "GhQGvIAF_SZ1"
      },
      "source": [
        "def preprocess(text):\n",
        "  stopwords = ['ی','می','مدل','را','از','به','که','و']\n",
        "  pattern = r'[A-Za-z]*[0-9]+[A-Za-z]*'\n",
        "  tokens = (re.sub(pattern,'',text)).split()\n",
        "  text = [token for token in tokens if not token in stopwords]\n",
        "  return(text)"
      ],
      "execution_count": 8,
      "outputs": []
    },
    {
      "cell_type": "code",
      "metadata": {
        "id": "9tsGUGXppFha"
      },
      "source": [
        "df['tokens'] = df['text'].apply(preprocess)\r\n",
        "tokens = df['tokens'].to_frame()"
      ],
      "execution_count": 9,
      "outputs": []
    },
    {
      "cell_type": "code",
      "metadata": {
        "colab": {
          "base_uri": "https://localhost:8080/",
          "height": 399
        },
        "id": "uqkmTOwydIwP",
        "outputId": "84116a82-ba4c-4577-f1fd-8cfcc3019a0a"
      },
      "source": [
        "tokens"
      ],
      "execution_count": 10,
      "outputs": [
        {
          "output_type": "execute_result",
          "data": {
            "text/html": [
              "<div>\n",
              "<style scoped>\n",
              "    .dataframe tbody tr th:only-of-type {\n",
              "        vertical-align: middle;\n",
              "    }\n",
              "\n",
              "    .dataframe tbody tr th {\n",
              "        vertical-align: top;\n",
              "    }\n",
              "\n",
              "    .dataframe thead th {\n",
              "        text-align: right;\n",
              "    }\n",
              "</style>\n",
              "<table border=\"1\" class=\"dataframe\">\n",
              "  <thead>\n",
              "    <tr style=\"text-align: right;\">\n",
              "      <th></th>\n",
              "      <th>tokens</th>\n",
              "    </tr>\n",
              "  </thead>\n",
              "  <tbody>\n",
              "    <tr>\n",
              "      <th>0</th>\n",
              "      <td>[ماگ, آکو, سلمان]</td>\n",
              "    </tr>\n",
              "    <tr>\n",
              "      <th>1</th>\n",
              "      <td>[کتاب, هیس, هیس, اثر, سحر, انواری]</td>\n",
              "    </tr>\n",
              "    <tr>\n",
              "      <th>2</th>\n",
              "      <td>[ساعت, مچی, عقربه, زنانه, کیمیو]</td>\n",
              "    </tr>\n",
              "    <tr>\n",
              "      <th>3</th>\n",
              "      <td>[کاور, تاپیکس, Hard, مناسب, گوشی, موبایل, سامس...</td>\n",
              "    </tr>\n",
              "    <tr>\n",
              "      <th>4</th>\n",
              "      <td>[کاور, کوسن, آکو]</td>\n",
              "    </tr>\n",
              "    <tr>\n",
              "      <th>...</th>\n",
              "      <td>...</td>\n",
              "    </tr>\n",
              "    <tr>\n",
              "      <th>299995</th>\n",
              "      <td>[پایه, گردان, خورشیدی, باطری, پایه, چرخشی, گرد...</td>\n",
              "    </tr>\n",
              "    <tr>\n",
              "      <th>299996</th>\n",
              "      <td>[قهوه, ایلی, Grany, Deca, مقدار, گرم]</td>\n",
              "    </tr>\n",
              "    <tr>\n",
              "      <th>299997</th>\n",
              "      <td>[شیرینی, خوری]</td>\n",
              "    </tr>\n",
              "    <tr>\n",
              "      <th>299998</th>\n",
              "      <td>[تی, شرت, یقه, گرد, مردانه, متی]</td>\n",
              "    </tr>\n",
              "    <tr>\n",
              "      <th>299999</th>\n",
              "      <td>[ساعت, مچی, عقربه, زنانه, دنیل, ولینگتون, ساعت...</td>\n",
              "    </tr>\n",
              "  </tbody>\n",
              "</table>\n",
              "<p>300000 rows × 1 columns</p>\n",
              "</div>"
            ],
            "text/plain": [
              "                                                   tokens\n",
              "0                                       [ماگ, آکو, سلمان]\n",
              "1                      [کتاب, هیس, هیس, اثر, سحر, انواری]\n",
              "2                        [ساعت, مچی, عقربه, زنانه, کیمیو]\n",
              "3       [کاور, تاپیکس, Hard, مناسب, گوشی, موبایل, سامس...\n",
              "4                                       [کاور, کوسن, آکو]\n",
              "...                                                   ...\n",
              "299995  [پایه, گردان, خورشیدی, باطری, پایه, چرخشی, گرد...\n",
              "299996              [قهوه, ایلی, Grany, Deca, مقدار, گرم]\n",
              "299997                                     [شیرینی, خوری]\n",
              "299998                   [تی, شرت, یقه, گرد, مردانه, متی]\n",
              "299999  [ساعت, مچی, عقربه, زنانه, دنیل, ولینگتون, ساعت...\n",
              "\n",
              "[300000 rows x 1 columns]"
            ]
          },
          "metadata": {
            "tags": []
          },
          "execution_count": 10
        }
      ]
    },
    {
      "cell_type": "code",
      "metadata": {
        "id": "neIoFoQrpPoJ"
      },
      "source": [
        "# finding the maximun lentgh of tokens\r\n",
        "len_tokens = df['tokens'].apply(lambda x:len(x))"
      ],
      "execution_count": 11,
      "outputs": []
    },
    {
      "cell_type": "code",
      "metadata": {
        "colab": {
          "base_uri": "https://localhost:8080/"
        },
        "id": "zMbnaVO7prtH",
        "outputId": "80d4076f-8ae1-4683-c5fd-5fe0e5d4b942"
      },
      "source": [
        "max(len_tokens)"
      ],
      "execution_count": 12,
      "outputs": [
        {
          "output_type": "execute_result",
          "data": {
            "text/plain": [
              "1327"
            ]
          },
          "metadata": {
            "tags": []
          },
          "execution_count": 12
        }
      ]
    },
    {
      "cell_type": "markdown",
      "metadata": {
        "id": "CFb2NRwpwXGr"
      },
      "source": [
        "### Embeding the words using **word2vec** from Gensim Library "
      ]
    },
    {
      "cell_type": "code",
      "metadata": {
        "id": "jYihCM3YqhCs"
      },
      "source": [
        "w2v = Word2Vec(df['tokens'].values,min_count=1,\n",
        "                     window=3,\n",
        "                     size=100,\n",
        "                     sample=6e-5, \n",
        "                     alpha=0.03, \n",
        "                     min_alpha=0.0007, \n",
        "                     negative=20)"
      ],
      "execution_count": 13,
      "outputs": []
    },
    {
      "cell_type": "code",
      "metadata": {
        "id": "gy6ERxAIxsWj"
      },
      "source": [
        "w2v.init_sims(replace=True)"
      ],
      "execution_count": 14,
      "outputs": []
    },
    {
      "cell_type": "code",
      "metadata": {
        "id": "orZLneKTq65_"
      },
      "source": [
        "words = list(w2v.wv.vocab)"
      ],
      "execution_count": 15,
      "outputs": []
    },
    {
      "cell_type": "markdown",
      "metadata": {
        "id": "uEjICsWZfhO6"
      },
      "source": [
        "testing some words! (similarity is measured by cosine similarity)"
      ]
    },
    {
      "cell_type": "code",
      "metadata": {
        "colab": {
          "base_uri": "https://localhost:8080/"
        },
        "id": "zUIO_gFAfFhg",
        "outputId": "7e11dc2e-4b85-4dd6-b7e6-9d065058b040"
      },
      "source": [
        "w2v.most_similar('موبایل')"
      ],
      "execution_count": 16,
      "outputs": [
        {
          "output_type": "stream",
          "text": [
            "/usr/local/lib/python3.6/dist-packages/ipykernel_launcher.py:1: DeprecationWarning: Call to deprecated `most_similar` (Method will be removed in 4.0.0, use self.wv.most_similar() instead).\n",
            "  \"\"\"Entry point for launching an IPython kernel.\n"
          ],
          "name": "stderr"
        },
        {
          "output_type": "execute_result",
          "data": {
            "text/plain": [
              "[('گوشی', 0.889575719833374),\n",
              " ('آیفون', 0.7377980947494507),\n",
              " ('تبلت', 0.7365264892578125),\n",
              " ('سامسونگ', 0.7118581533432007),\n",
              " ('Plus', 0.6874409317970276),\n",
              " ('Note', 0.6727398633956909),\n",
              " ('کاور', 0.6716111898422241),\n",
              " ('دوربین', 0.6547080278396606),\n",
              " ('نوکیا', 0.6515638828277588),\n",
              " ('دستگاهتان', 0.645830512046814)]"
            ]
          },
          "metadata": {
            "tags": []
          },
          "execution_count": 16
        }
      ]
    },
    {
      "cell_type": "code",
      "metadata": {
        "colab": {
          "base_uri": "https://localhost:8080/"
        },
        "id": "chp8J7Zcf-B2",
        "outputId": "da6b4242-d722-4e9b-93ec-3cf37f02f21f"
      },
      "source": [
        "w2v.most_similar('کتاب')"
      ],
      "execution_count": 17,
      "outputs": [
        {
          "output_type": "stream",
          "text": [
            "/usr/local/lib/python3.6/dist-packages/ipykernel_launcher.py:1: DeprecationWarning: Call to deprecated `most_similar` (Method will be removed in 4.0.0, use self.wv.most_similar() instead).\n",
            "  \"\"\"Entry point for launching an IPython kernel.\n"
          ],
          "name": "stderr"
        },
        {
          "output_type": "execute_result",
          "data": {
            "text/plain": [
              "[('دربردارد', 0.8127429485321045),\n",
              " ('مقدمه', 0.8053098320960999),\n",
              " ('خوانید', 0.7794033288955688),\n",
              " ('مجلد', 0.7738686800003052),\n",
              " ('مولف', 0.7730684280395508),\n",
              " ('طنز', 0.771487832069397),\n",
              " ('تالیف', 0.770850419998169),\n",
              " ('داستان', 0.7706552147865295),\n",
              " ('رمانی', 0.770344614982605),\n",
              " ('پیشگفتار', 0.7679964303970337)]"
            ]
          },
          "metadata": {
            "tags": []
          },
          "execution_count": 17
        }
      ]
    },
    {
      "cell_type": "markdown",
      "metadata": {
        "id": "eLkqVo9WgHGi"
      },
      "source": [
        "not so bad!"
      ]
    },
    {
      "cell_type": "code",
      "metadata": {
        "colab": {
          "base_uri": "https://localhost:8080/"
        },
        "id": "ubwIespZtgAo",
        "outputId": "40c46f45-8ee0-4eff-eb0a-1b798cafed9c"
      },
      "source": [
        "# length of vectors representing each word\r\n",
        "len(w2v.wv.get_vector('موبایل'))"
      ],
      "execution_count": 18,
      "outputs": [
        {
          "output_type": "execute_result",
          "data": {
            "text/plain": [
              "100"
            ]
          },
          "metadata": {
            "tags": []
          },
          "execution_count": 18
        }
      ]
    },
    {
      "cell_type": "markdown",
      "metadata": {
        "id": "OlBgxy4Lwvsa"
      },
      "source": [
        "### Calculating the vectors of each sentence (product title + description)"
      ]
    },
    {
      "cell_type": "code",
      "metadata": {
        "colab": {
          "base_uri": "https://localhost:8080/"
        },
        "id": "0Qq7KJAbuA8I",
        "outputId": "a720f16b-2fb1-4c23-e06c-3c283eb7d0b7"
      },
      "source": [
        "sentence_vector_average = np.zeros((300000,100))\n",
        "for ind in range(len(df['tokens'].values)):\n",
        "  line = df['tokens'].values[ind]\n",
        "  token_num = 0\n",
        "  sentence_vector = np.zeros((100,))\n",
        "  for token in line:\n",
        "    sentence_vector += w2v.wv.get_vector(token)\n",
        "    token_num += 1\n",
        "  sentence_vector_average[ind] = sentence_vector/token_num"
      ],
      "execution_count": 19,
      "outputs": [
        {
          "output_type": "stream",
          "text": [
            "/usr/local/lib/python3.6/dist-packages/ipykernel_launcher.py:9: RuntimeWarning: invalid value encountered in true_divide\n",
            "  if __name__ == '__main__':\n"
          ],
          "name": "stderr"
        }
      ]
    },
    {
      "cell_type": "code",
      "metadata": {
        "id": "M4FVcgxBoq0P"
      },
      "source": [
        "sentence_vector_average_df = pd.DataFrame(sentence_vector_average)"
      ],
      "execution_count": 20,
      "outputs": []
    },
    {
      "cell_type": "code",
      "metadata": {
        "colab": {
          "base_uri": "https://localhost:8080/",
          "height": 243
        },
        "id": "1DET10I1pYS-",
        "outputId": "aa2a49a2-c55a-465b-a63e-e5aa8ffebe1a"
      },
      "source": [
        "sentence_vector_average_df.sample(5)"
      ],
      "execution_count": 21,
      "outputs": [
        {
          "output_type": "execute_result",
          "data": {
            "text/html": [
              "<div>\n",
              "<style scoped>\n",
              "    .dataframe tbody tr th:only-of-type {\n",
              "        vertical-align: middle;\n",
              "    }\n",
              "\n",
              "    .dataframe tbody tr th {\n",
              "        vertical-align: top;\n",
              "    }\n",
              "\n",
              "    .dataframe thead th {\n",
              "        text-align: right;\n",
              "    }\n",
              "</style>\n",
              "<table border=\"1\" class=\"dataframe\">\n",
              "  <thead>\n",
              "    <tr style=\"text-align: right;\">\n",
              "      <th></th>\n",
              "      <th>0</th>\n",
              "      <th>1</th>\n",
              "      <th>2</th>\n",
              "      <th>3</th>\n",
              "      <th>4</th>\n",
              "      <th>5</th>\n",
              "      <th>6</th>\n",
              "      <th>7</th>\n",
              "      <th>8</th>\n",
              "      <th>9</th>\n",
              "      <th>10</th>\n",
              "      <th>11</th>\n",
              "      <th>12</th>\n",
              "      <th>13</th>\n",
              "      <th>14</th>\n",
              "      <th>15</th>\n",
              "      <th>16</th>\n",
              "      <th>17</th>\n",
              "      <th>18</th>\n",
              "      <th>19</th>\n",
              "      <th>20</th>\n",
              "      <th>21</th>\n",
              "      <th>22</th>\n",
              "      <th>23</th>\n",
              "      <th>24</th>\n",
              "      <th>25</th>\n",
              "      <th>26</th>\n",
              "      <th>27</th>\n",
              "      <th>28</th>\n",
              "      <th>29</th>\n",
              "      <th>30</th>\n",
              "      <th>31</th>\n",
              "      <th>32</th>\n",
              "      <th>33</th>\n",
              "      <th>34</th>\n",
              "      <th>35</th>\n",
              "      <th>36</th>\n",
              "      <th>37</th>\n",
              "      <th>38</th>\n",
              "      <th>39</th>\n",
              "      <th>...</th>\n",
              "      <th>60</th>\n",
              "      <th>61</th>\n",
              "      <th>62</th>\n",
              "      <th>63</th>\n",
              "      <th>64</th>\n",
              "      <th>65</th>\n",
              "      <th>66</th>\n",
              "      <th>67</th>\n",
              "      <th>68</th>\n",
              "      <th>69</th>\n",
              "      <th>70</th>\n",
              "      <th>71</th>\n",
              "      <th>72</th>\n",
              "      <th>73</th>\n",
              "      <th>74</th>\n",
              "      <th>75</th>\n",
              "      <th>76</th>\n",
              "      <th>77</th>\n",
              "      <th>78</th>\n",
              "      <th>79</th>\n",
              "      <th>80</th>\n",
              "      <th>81</th>\n",
              "      <th>82</th>\n",
              "      <th>83</th>\n",
              "      <th>84</th>\n",
              "      <th>85</th>\n",
              "      <th>86</th>\n",
              "      <th>87</th>\n",
              "      <th>88</th>\n",
              "      <th>89</th>\n",
              "      <th>90</th>\n",
              "      <th>91</th>\n",
              "      <th>92</th>\n",
              "      <th>93</th>\n",
              "      <th>94</th>\n",
              "      <th>95</th>\n",
              "      <th>96</th>\n",
              "      <th>97</th>\n",
              "      <th>98</th>\n",
              "      <th>99</th>\n",
              "    </tr>\n",
              "  </thead>\n",
              "  <tbody>\n",
              "    <tr>\n",
              "      <th>17052</th>\n",
              "      <td>0.001354</td>\n",
              "      <td>-0.034974</td>\n",
              "      <td>-0.049349</td>\n",
              "      <td>0.007385</td>\n",
              "      <td>0.029330</td>\n",
              "      <td>0.072270</td>\n",
              "      <td>-0.140406</td>\n",
              "      <td>0.008688</td>\n",
              "      <td>-0.064330</td>\n",
              "      <td>0.027098</td>\n",
              "      <td>0.058637</td>\n",
              "      <td>-0.044883</td>\n",
              "      <td>-0.042259</td>\n",
              "      <td>-0.094237</td>\n",
              "      <td>-0.051238</td>\n",
              "      <td>0.129132</td>\n",
              "      <td>0.083220</td>\n",
              "      <td>-0.161648</td>\n",
              "      <td>-0.100970</td>\n",
              "      <td>0.038713</td>\n",
              "      <td>-0.157645</td>\n",
              "      <td>-0.136270</td>\n",
              "      <td>-0.008798</td>\n",
              "      <td>0.118248</td>\n",
              "      <td>0.084805</td>\n",
              "      <td>0.093804</td>\n",
              "      <td>-0.084492</td>\n",
              "      <td>-0.055005</td>\n",
              "      <td>0.096100</td>\n",
              "      <td>-0.024064</td>\n",
              "      <td>-0.002268</td>\n",
              "      <td>-0.084866</td>\n",
              "      <td>0.023673</td>\n",
              "      <td>0.003078</td>\n",
              "      <td>0.042996</td>\n",
              "      <td>-0.081009</td>\n",
              "      <td>-0.056700</td>\n",
              "      <td>0.075788</td>\n",
              "      <td>0.079564</td>\n",
              "      <td>0.022203</td>\n",
              "      <td>...</td>\n",
              "      <td>-0.088735</td>\n",
              "      <td>0.121804</td>\n",
              "      <td>-0.094988</td>\n",
              "      <td>-0.007872</td>\n",
              "      <td>0.004351</td>\n",
              "      <td>0.117854</td>\n",
              "      <td>0.046690</td>\n",
              "      <td>-0.013932</td>\n",
              "      <td>0.014750</td>\n",
              "      <td>-0.033441</td>\n",
              "      <td>-0.037982</td>\n",
              "      <td>-0.137744</td>\n",
              "      <td>0.153056</td>\n",
              "      <td>-0.128054</td>\n",
              "      <td>-0.200010</td>\n",
              "      <td>0.074072</td>\n",
              "      <td>0.023010</td>\n",
              "      <td>0.027236</td>\n",
              "      <td>0.009502</td>\n",
              "      <td>-0.180730</td>\n",
              "      <td>0.088115</td>\n",
              "      <td>0.026969</td>\n",
              "      <td>-0.113410</td>\n",
              "      <td>-0.009985</td>\n",
              "      <td>0.049214</td>\n",
              "      <td>0.006425</td>\n",
              "      <td>0.067991</td>\n",
              "      <td>0.026218</td>\n",
              "      <td>0.054131</td>\n",
              "      <td>-0.091073</td>\n",
              "      <td>0.038304</td>\n",
              "      <td>0.052086</td>\n",
              "      <td>-0.082504</td>\n",
              "      <td>0.074842</td>\n",
              "      <td>-0.111054</td>\n",
              "      <td>-0.044794</td>\n",
              "      <td>0.066220</td>\n",
              "      <td>0.069732</td>\n",
              "      <td>0.054623</td>\n",
              "      <td>-0.213834</td>\n",
              "    </tr>\n",
              "    <tr>\n",
              "      <th>2064</th>\n",
              "      <td>0.072623</td>\n",
              "      <td>0.063212</td>\n",
              "      <td>-0.124776</td>\n",
              "      <td>-0.031671</td>\n",
              "      <td>0.043503</td>\n",
              "      <td>-0.013504</td>\n",
              "      <td>0.021689</td>\n",
              "      <td>-0.009991</td>\n",
              "      <td>-0.001970</td>\n",
              "      <td>0.059956</td>\n",
              "      <td>0.053281</td>\n",
              "      <td>-0.014229</td>\n",
              "      <td>-0.039531</td>\n",
              "      <td>-0.058972</td>\n",
              "      <td>-0.047210</td>\n",
              "      <td>-0.022496</td>\n",
              "      <td>-0.023004</td>\n",
              "      <td>-0.000525</td>\n",
              "      <td>0.025863</td>\n",
              "      <td>0.106193</td>\n",
              "      <td>-0.013692</td>\n",
              "      <td>-0.019338</td>\n",
              "      <td>-0.004079</td>\n",
              "      <td>0.017014</td>\n",
              "      <td>0.084591</td>\n",
              "      <td>0.039910</td>\n",
              "      <td>-0.010639</td>\n",
              "      <td>-0.005972</td>\n",
              "      <td>0.086079</td>\n",
              "      <td>0.050216</td>\n",
              "      <td>0.016009</td>\n",
              "      <td>-0.032434</td>\n",
              "      <td>0.033536</td>\n",
              "      <td>-0.015249</td>\n",
              "      <td>0.068578</td>\n",
              "      <td>-0.029652</td>\n",
              "      <td>0.013557</td>\n",
              "      <td>0.011813</td>\n",
              "      <td>-0.001654</td>\n",
              "      <td>0.071146</td>\n",
              "      <td>...</td>\n",
              "      <td>0.039729</td>\n",
              "      <td>0.031601</td>\n",
              "      <td>-0.032086</td>\n",
              "      <td>-0.003642</td>\n",
              "      <td>-0.079578</td>\n",
              "      <td>-0.036387</td>\n",
              "      <td>0.024465</td>\n",
              "      <td>0.001311</td>\n",
              "      <td>0.017743</td>\n",
              "      <td>0.026056</td>\n",
              "      <td>-0.053625</td>\n",
              "      <td>-0.073288</td>\n",
              "      <td>0.007138</td>\n",
              "      <td>-0.041554</td>\n",
              "      <td>-0.099565</td>\n",
              "      <td>-0.014979</td>\n",
              "      <td>-0.041777</td>\n",
              "      <td>-0.045367</td>\n",
              "      <td>0.028726</td>\n",
              "      <td>-0.001850</td>\n",
              "      <td>0.051540</td>\n",
              "      <td>-0.046588</td>\n",
              "      <td>0.024405</td>\n",
              "      <td>-0.026294</td>\n",
              "      <td>-0.068693</td>\n",
              "      <td>-0.020255</td>\n",
              "      <td>-0.009198</td>\n",
              "      <td>-0.053370</td>\n",
              "      <td>0.088200</td>\n",
              "      <td>0.023983</td>\n",
              "      <td>0.052045</td>\n",
              "      <td>0.058232</td>\n",
              "      <td>0.032458</td>\n",
              "      <td>-0.045653</td>\n",
              "      <td>-0.063387</td>\n",
              "      <td>-0.024738</td>\n",
              "      <td>0.030597</td>\n",
              "      <td>0.052038</td>\n",
              "      <td>-0.008475</td>\n",
              "      <td>-0.111256</td>\n",
              "    </tr>\n",
              "    <tr>\n",
              "      <th>200160</th>\n",
              "      <td>0.190586</td>\n",
              "      <td>-0.025834</td>\n",
              "      <td>0.057073</td>\n",
              "      <td>-0.011286</td>\n",
              "      <td>0.078555</td>\n",
              "      <td>-0.103344</td>\n",
              "      <td>0.054163</td>\n",
              "      <td>0.018212</td>\n",
              "      <td>-0.035937</td>\n",
              "      <td>-0.050975</td>\n",
              "      <td>0.080864</td>\n",
              "      <td>-0.049154</td>\n",
              "      <td>-0.039883</td>\n",
              "      <td>0.021897</td>\n",
              "      <td>0.095017</td>\n",
              "      <td>-0.062648</td>\n",
              "      <td>-0.021991</td>\n",
              "      <td>-0.021651</td>\n",
              "      <td>-0.015044</td>\n",
              "      <td>-0.075611</td>\n",
              "      <td>-0.010620</td>\n",
              "      <td>-0.050383</td>\n",
              "      <td>0.069665</td>\n",
              "      <td>0.033541</td>\n",
              "      <td>0.070938</td>\n",
              "      <td>-0.010517</td>\n",
              "      <td>0.025357</td>\n",
              "      <td>0.043127</td>\n",
              "      <td>-0.011760</td>\n",
              "      <td>0.057876</td>\n",
              "      <td>-0.023802</td>\n",
              "      <td>0.066005</td>\n",
              "      <td>0.050648</td>\n",
              "      <td>0.129585</td>\n",
              "      <td>-0.042460</td>\n",
              "      <td>-0.058209</td>\n",
              "      <td>-0.102956</td>\n",
              "      <td>0.066720</td>\n",
              "      <td>-0.002519</td>\n",
              "      <td>0.081088</td>\n",
              "      <td>...</td>\n",
              "      <td>-0.003093</td>\n",
              "      <td>0.310469</td>\n",
              "      <td>-0.004054</td>\n",
              "      <td>0.082877</td>\n",
              "      <td>-0.148109</td>\n",
              "      <td>-0.058822</td>\n",
              "      <td>0.061603</td>\n",
              "      <td>-0.000634</td>\n",
              "      <td>0.113613</td>\n",
              "      <td>0.018910</td>\n",
              "      <td>-0.020668</td>\n",
              "      <td>0.070571</td>\n",
              "      <td>-0.110027</td>\n",
              "      <td>0.061039</td>\n",
              "      <td>-0.039206</td>\n",
              "      <td>0.001466</td>\n",
              "      <td>-0.042920</td>\n",
              "      <td>-0.044790</td>\n",
              "      <td>0.060204</td>\n",
              "      <td>-0.041022</td>\n",
              "      <td>0.008067</td>\n",
              "      <td>-0.136979</td>\n",
              "      <td>-0.037059</td>\n",
              "      <td>-0.037757</td>\n",
              "      <td>-0.080256</td>\n",
              "      <td>0.030140</td>\n",
              "      <td>0.079651</td>\n",
              "      <td>0.133992</td>\n",
              "      <td>-0.000802</td>\n",
              "      <td>0.068809</td>\n",
              "      <td>-0.025486</td>\n",
              "      <td>0.051041</td>\n",
              "      <td>-0.015034</td>\n",
              "      <td>-0.066233</td>\n",
              "      <td>-0.045644</td>\n",
              "      <td>-0.059939</td>\n",
              "      <td>0.114614</td>\n",
              "      <td>0.019891</td>\n",
              "      <td>-0.100062</td>\n",
              "      <td>-0.141203</td>\n",
              "    </tr>\n",
              "    <tr>\n",
              "      <th>68477</th>\n",
              "      <td>0.045997</td>\n",
              "      <td>0.024929</td>\n",
              "      <td>0.001098</td>\n",
              "      <td>-0.073512</td>\n",
              "      <td>-0.005393</td>\n",
              "      <td>0.095450</td>\n",
              "      <td>0.000436</td>\n",
              "      <td>-0.009985</td>\n",
              "      <td>0.003656</td>\n",
              "      <td>0.027587</td>\n",
              "      <td>0.078108</td>\n",
              "      <td>-0.006354</td>\n",
              "      <td>-0.031774</td>\n",
              "      <td>0.009192</td>\n",
              "      <td>-0.026098</td>\n",
              "      <td>0.096497</td>\n",
              "      <td>0.075956</td>\n",
              "      <td>-0.160362</td>\n",
              "      <td>-0.067815</td>\n",
              "      <td>0.027835</td>\n",
              "      <td>-0.099524</td>\n",
              "      <td>-0.034171</td>\n",
              "      <td>-0.083511</td>\n",
              "      <td>0.067940</td>\n",
              "      <td>0.022027</td>\n",
              "      <td>0.095090</td>\n",
              "      <td>-0.108298</td>\n",
              "      <td>-0.027273</td>\n",
              "      <td>-0.065491</td>\n",
              "      <td>-0.055806</td>\n",
              "      <td>0.005201</td>\n",
              "      <td>-0.038967</td>\n",
              "      <td>-0.137846</td>\n",
              "      <td>-0.050603</td>\n",
              "      <td>0.099258</td>\n",
              "      <td>-0.022909</td>\n",
              "      <td>-0.099636</td>\n",
              "      <td>0.026026</td>\n",
              "      <td>0.071052</td>\n",
              "      <td>-0.038945</td>\n",
              "      <td>...</td>\n",
              "      <td>0.051365</td>\n",
              "      <td>0.001076</td>\n",
              "      <td>0.002607</td>\n",
              "      <td>0.081431</td>\n",
              "      <td>-0.089972</td>\n",
              "      <td>0.029756</td>\n",
              "      <td>0.011348</td>\n",
              "      <td>-0.049492</td>\n",
              "      <td>-0.056312</td>\n",
              "      <td>-0.032143</td>\n",
              "      <td>0.095713</td>\n",
              "      <td>-0.044015</td>\n",
              "      <td>0.028354</td>\n",
              "      <td>-0.120266</td>\n",
              "      <td>-0.140603</td>\n",
              "      <td>0.078959</td>\n",
              "      <td>-0.083511</td>\n",
              "      <td>0.082294</td>\n",
              "      <td>0.016624</td>\n",
              "      <td>-0.093531</td>\n",
              "      <td>0.004516</td>\n",
              "      <td>-0.030724</td>\n",
              "      <td>-0.069841</td>\n",
              "      <td>-0.026238</td>\n",
              "      <td>-0.051539</td>\n",
              "      <td>0.010011</td>\n",
              "      <td>-0.063124</td>\n",
              "      <td>0.027844</td>\n",
              "      <td>0.098622</td>\n",
              "      <td>-0.163863</td>\n",
              "      <td>0.042790</td>\n",
              "      <td>0.115840</td>\n",
              "      <td>-0.083909</td>\n",
              "      <td>0.040643</td>\n",
              "      <td>0.009560</td>\n",
              "      <td>-0.025147</td>\n",
              "      <td>0.100334</td>\n",
              "      <td>0.088710</td>\n",
              "      <td>-0.033812</td>\n",
              "      <td>-0.242042</td>\n",
              "    </tr>\n",
              "    <tr>\n",
              "      <th>110627</th>\n",
              "      <td>0.037676</td>\n",
              "      <td>0.065775</td>\n",
              "      <td>-0.043067</td>\n",
              "      <td>-0.010029</td>\n",
              "      <td>-0.057898</td>\n",
              "      <td>-0.002530</td>\n",
              "      <td>0.025175</td>\n",
              "      <td>0.030751</td>\n",
              "      <td>-0.005452</td>\n",
              "      <td>0.044247</td>\n",
              "      <td>-0.004764</td>\n",
              "      <td>-0.065133</td>\n",
              "      <td>-0.227653</td>\n",
              "      <td>-0.110907</td>\n",
              "      <td>-0.053742</td>\n",
              "      <td>-0.023327</td>\n",
              "      <td>0.046006</td>\n",
              "      <td>-0.011200</td>\n",
              "      <td>0.039504</td>\n",
              "      <td>0.052637</td>\n",
              "      <td>0.131806</td>\n",
              "      <td>-0.061173</td>\n",
              "      <td>-0.077445</td>\n",
              "      <td>-0.003658</td>\n",
              "      <td>0.019712</td>\n",
              "      <td>-0.021554</td>\n",
              "      <td>-0.015145</td>\n",
              "      <td>-0.051365</td>\n",
              "      <td>0.048758</td>\n",
              "      <td>-0.102291</td>\n",
              "      <td>-0.025796</td>\n",
              "      <td>-0.042368</td>\n",
              "      <td>-0.000458</td>\n",
              "      <td>-0.100008</td>\n",
              "      <td>-0.045984</td>\n",
              "      <td>-0.026594</td>\n",
              "      <td>-0.052157</td>\n",
              "      <td>-0.039501</td>\n",
              "      <td>-0.066982</td>\n",
              "      <td>0.127352</td>\n",
              "      <td>...</td>\n",
              "      <td>-0.040974</td>\n",
              "      <td>-0.000435</td>\n",
              "      <td>0.013433</td>\n",
              "      <td>-0.062745</td>\n",
              "      <td>-0.041664</td>\n",
              "      <td>-0.043153</td>\n",
              "      <td>-0.088813</td>\n",
              "      <td>-0.134437</td>\n",
              "      <td>0.035040</td>\n",
              "      <td>-0.020333</td>\n",
              "      <td>0.046890</td>\n",
              "      <td>-0.081396</td>\n",
              "      <td>-0.119619</td>\n",
              "      <td>-0.001071</td>\n",
              "      <td>0.046314</td>\n",
              "      <td>0.001929</td>\n",
              "      <td>0.061719</td>\n",
              "      <td>0.005986</td>\n",
              "      <td>0.024906</td>\n",
              "      <td>0.014915</td>\n",
              "      <td>-0.101987</td>\n",
              "      <td>-0.015819</td>\n",
              "      <td>0.068719</td>\n",
              "      <td>0.061572</td>\n",
              "      <td>-0.026761</td>\n",
              "      <td>-0.119777</td>\n",
              "      <td>0.085220</td>\n",
              "      <td>-0.072270</td>\n",
              "      <td>0.042202</td>\n",
              "      <td>0.058924</td>\n",
              "      <td>0.014950</td>\n",
              "      <td>0.146484</td>\n",
              "      <td>0.083176</td>\n",
              "      <td>0.018333</td>\n",
              "      <td>0.023182</td>\n",
              "      <td>0.029353</td>\n",
              "      <td>0.003297</td>\n",
              "      <td>-0.027572</td>\n",
              "      <td>-0.009578</td>\n",
              "      <td>-0.118695</td>\n",
              "    </tr>\n",
              "  </tbody>\n",
              "</table>\n",
              "<p>5 rows × 100 columns</p>\n",
              "</div>"
            ],
            "text/plain": [
              "              0         1         2   ...        97        98        99\n",
              "17052   0.001354 -0.034974 -0.049349  ...  0.069732  0.054623 -0.213834\n",
              "2064    0.072623  0.063212 -0.124776  ...  0.052038 -0.008475 -0.111256\n",
              "200160  0.190586 -0.025834  0.057073  ...  0.019891 -0.100062 -0.141203\n",
              "68477   0.045997  0.024929  0.001098  ...  0.088710 -0.033812 -0.242042\n",
              "110627  0.037676  0.065775 -0.043067  ... -0.027572 -0.009578 -0.118695\n",
              "\n",
              "[5 rows x 100 columns]"
            ]
          },
          "metadata": {
            "tags": []
          },
          "execution_count": 21
        }
      ]
    },
    {
      "cell_type": "code",
      "metadata": {
        "colab": {
          "base_uri": "https://localhost:8080/"
        },
        "id": "jGsp7I9Cg4m5",
        "outputId": "c7a49427-a0e1-46bf-f74e-e89ce0bb3f2e"
      },
      "source": [
        "sentence_vector_average_df.isna().sum()"
      ],
      "execution_count": 22,
      "outputs": [
        {
          "output_type": "execute_result",
          "data": {
            "text/plain": [
              "0     21\n",
              "1     21\n",
              "2     21\n",
              "3     21\n",
              "4     21\n",
              "      ..\n",
              "95    21\n",
              "96    21\n",
              "97    21\n",
              "98    21\n",
              "99    21\n",
              "Length: 100, dtype: int64"
            ]
          },
          "metadata": {
            "tags": []
          },
          "execution_count": 22
        }
      ]
    },
    {
      "cell_type": "markdown",
      "metadata": {
        "id": "9nNi3ppcg-T1"
      },
      "source": [
        "There are 21 nan examples after calculating the sum vector of examples\r\n",
        "\r\n",
        "These can be dropped."
      ]
    },
    {
      "cell_type": "markdown",
      "metadata": {
        "id": "v4NxV1vtxCFU"
      },
      "source": [
        "### segmenting the products using sentence vectors wit Clustering"
      ]
    },
    {
      "cell_type": "code",
      "metadata": {
        "id": "r_YCR2_LpqGy"
      },
      "source": [
        "from sklearn.cluster import DBSCAN,KMeans"
      ],
      "execution_count": 23,
      "outputs": []
    },
    {
      "cell_type": "code",
      "metadata": {
        "colab": {
          "base_uri": "https://localhost:8080/"
        },
        "id": "fDCwPhBbEgjh",
        "outputId": "54d35819-25d5-4304-9511-46f61e493893"
      },
      "source": [
        "sentence_vector_average_df.shape"
      ],
      "execution_count": 24,
      "outputs": [
        {
          "output_type": "execute_result",
          "data": {
            "text/plain": [
              "(300000, 100)"
            ]
          },
          "metadata": {
            "tags": []
          },
          "execution_count": 24
        }
      ]
    },
    {
      "cell_type": "markdown",
      "metadata": {
        "id": "DKr6Fxuuje6U"
      },
      "source": [
        "Now we Cluster the word vectors using Density-based spatial clustering of applications with noise (DBSCAN) clustering method\r\n",
        "\r\n",
        "**Note:** Clustering the whole 300000 examples required a lot of ram which resulted in crashing the session, so i just run the algorithm on a sample of 50000 examples for tehsake of representation."
      ]
    },
    {
      "cell_type": "code",
      "metadata": {
        "id": "bkoZ-709p28x",
        "colab": {
          "base_uri": "https://localhost:8080/"
        },
        "outputId": "c6c9bdab-ef36-4a28-e010-497915099c1d"
      },
      "source": [
        "#DBSCAN clustering algorithm\n",
        "sampled_data = sentence_vector_average_df.sample(50000).dropna().values\n",
        "\n",
        "dbscan = DBSCAN(eps=0.1, min_samples=110, metric='cosine')\n",
        "dbscan.fit(sampled_data)"
      ],
      "execution_count": 46,
      "outputs": [
        {
          "output_type": "execute_result",
          "data": {
            "text/plain": [
              "DBSCAN(algorithm='auto', eps=0.1, leaf_size=30, metric='cosine',\n",
              "       metric_params=None, min_samples=110, n_jobs=None, p=None)"
            ]
          },
          "metadata": {
            "tags": []
          },
          "execution_count": 46
        }
      ]
    },
    {
      "cell_type": "code",
      "metadata": {
        "colab": {
          "base_uri": "https://localhost:8080/"
        },
        "id": "osjkiY3_fKGj",
        "outputId": "1d3ed945-0746-4d9e-a242-68d74b35d344"
      },
      "source": [
        "# label -1 shows noise data\r\n",
        "np.unique(dbscan.labels_)"
      ],
      "execution_count": 47,
      "outputs": [
        {
          "output_type": "execute_result",
          "data": {
            "text/plain": [
              "array([-1,  0,  1,  2,  3,  4,  5,  6,  7,  8,  9, 10, 11, 12, 13, 14, 15,\n",
              "       16, 17, 18, 19, 20])"
            ]
          },
          "metadata": {
            "tags": []
          },
          "execution_count": 47
        }
      ]
    },
    {
      "cell_type": "markdown",
      "metadata": {
        "id": "ttoe7zadgJ9g"
      },
      "source": [
        "We got 20 clusters that we could use each represeting a product category"
      ]
    },
    {
      "cell_type": "code",
      "metadata": {
        "id": "V2aJYxiTin3-"
      },
      "source": [
        "sampled_data = pd.DataFrame(sampled_data)"
      ],
      "execution_count": 50,
      "outputs": []
    },
    {
      "cell_type": "code",
      "metadata": {
        "id": "YTiyVDufgkgF"
      },
      "source": [
        "sampled_data['label'] = dbscan.labels_"
      ],
      "execution_count": 52,
      "outputs": []
    },
    {
      "cell_type": "code",
      "metadata": {
        "colab": {
          "base_uri": "https://localhost:8080/",
          "height": 419
        },
        "id": "Un8-sqwXi2Wz",
        "outputId": "a499358b-5a3e-427b-cdbe-8c807d408553"
      },
      "source": [
        "sampled_data"
      ],
      "execution_count": 53,
      "outputs": [
        {
          "output_type": "execute_result",
          "data": {
            "text/html": [
              "<div>\n",
              "<style scoped>\n",
              "    .dataframe tbody tr th:only-of-type {\n",
              "        vertical-align: middle;\n",
              "    }\n",
              "\n",
              "    .dataframe tbody tr th {\n",
              "        vertical-align: top;\n",
              "    }\n",
              "\n",
              "    .dataframe thead th {\n",
              "        text-align: right;\n",
              "    }\n",
              "</style>\n",
              "<table border=\"1\" class=\"dataframe\">\n",
              "  <thead>\n",
              "    <tr style=\"text-align: right;\">\n",
              "      <th></th>\n",
              "      <th>0</th>\n",
              "      <th>1</th>\n",
              "      <th>2</th>\n",
              "      <th>3</th>\n",
              "      <th>4</th>\n",
              "      <th>5</th>\n",
              "      <th>6</th>\n",
              "      <th>7</th>\n",
              "      <th>8</th>\n",
              "      <th>9</th>\n",
              "      <th>10</th>\n",
              "      <th>11</th>\n",
              "      <th>12</th>\n",
              "      <th>13</th>\n",
              "      <th>14</th>\n",
              "      <th>15</th>\n",
              "      <th>16</th>\n",
              "      <th>17</th>\n",
              "      <th>18</th>\n",
              "      <th>19</th>\n",
              "      <th>20</th>\n",
              "      <th>21</th>\n",
              "      <th>22</th>\n",
              "      <th>23</th>\n",
              "      <th>24</th>\n",
              "      <th>25</th>\n",
              "      <th>26</th>\n",
              "      <th>27</th>\n",
              "      <th>28</th>\n",
              "      <th>29</th>\n",
              "      <th>30</th>\n",
              "      <th>31</th>\n",
              "      <th>32</th>\n",
              "      <th>33</th>\n",
              "      <th>34</th>\n",
              "      <th>35</th>\n",
              "      <th>36</th>\n",
              "      <th>37</th>\n",
              "      <th>38</th>\n",
              "      <th>39</th>\n",
              "      <th>...</th>\n",
              "      <th>61</th>\n",
              "      <th>62</th>\n",
              "      <th>63</th>\n",
              "      <th>64</th>\n",
              "      <th>65</th>\n",
              "      <th>66</th>\n",
              "      <th>67</th>\n",
              "      <th>68</th>\n",
              "      <th>69</th>\n",
              "      <th>70</th>\n",
              "      <th>71</th>\n",
              "      <th>72</th>\n",
              "      <th>73</th>\n",
              "      <th>74</th>\n",
              "      <th>75</th>\n",
              "      <th>76</th>\n",
              "      <th>77</th>\n",
              "      <th>78</th>\n",
              "      <th>79</th>\n",
              "      <th>80</th>\n",
              "      <th>81</th>\n",
              "      <th>82</th>\n",
              "      <th>83</th>\n",
              "      <th>84</th>\n",
              "      <th>85</th>\n",
              "      <th>86</th>\n",
              "      <th>87</th>\n",
              "      <th>88</th>\n",
              "      <th>89</th>\n",
              "      <th>90</th>\n",
              "      <th>91</th>\n",
              "      <th>92</th>\n",
              "      <th>93</th>\n",
              "      <th>94</th>\n",
              "      <th>95</th>\n",
              "      <th>96</th>\n",
              "      <th>97</th>\n",
              "      <th>98</th>\n",
              "      <th>99</th>\n",
              "      <th>label</th>\n",
              "    </tr>\n",
              "  </thead>\n",
              "  <tbody>\n",
              "    <tr>\n",
              "      <th>0</th>\n",
              "      <td>0.104329</td>\n",
              "      <td>0.004700</td>\n",
              "      <td>0.008771</td>\n",
              "      <td>-0.056472</td>\n",
              "      <td>0.107413</td>\n",
              "      <td>-0.049986</td>\n",
              "      <td>0.063415</td>\n",
              "      <td>-0.071258</td>\n",
              "      <td>-0.051397</td>\n",
              "      <td>0.053155</td>\n",
              "      <td>0.039382</td>\n",
              "      <td>-0.003380</td>\n",
              "      <td>-0.031782</td>\n",
              "      <td>0.027083</td>\n",
              "      <td>0.035015</td>\n",
              "      <td>0.021713</td>\n",
              "      <td>-0.072399</td>\n",
              "      <td>0.078192</td>\n",
              "      <td>-0.005376</td>\n",
              "      <td>0.015363</td>\n",
              "      <td>-0.073590</td>\n",
              "      <td>0.032974</td>\n",
              "      <td>0.159061</td>\n",
              "      <td>-0.074763</td>\n",
              "      <td>-0.002360</td>\n",
              "      <td>0.116180</td>\n",
              "      <td>0.012628</td>\n",
              "      <td>-0.001825</td>\n",
              "      <td>-0.064436</td>\n",
              "      <td>0.132253</td>\n",
              "      <td>0.002586</td>\n",
              "      <td>-0.118603</td>\n",
              "      <td>0.047178</td>\n",
              "      <td>0.023632</td>\n",
              "      <td>0.063951</td>\n",
              "      <td>-0.079655</td>\n",
              "      <td>0.027661</td>\n",
              "      <td>0.099638</td>\n",
              "      <td>0.017809</td>\n",
              "      <td>-0.027758</td>\n",
              "      <td>...</td>\n",
              "      <td>0.190002</td>\n",
              "      <td>-0.110137</td>\n",
              "      <td>0.102852</td>\n",
              "      <td>-0.078585</td>\n",
              "      <td>0.035801</td>\n",
              "      <td>-0.062685</td>\n",
              "      <td>-0.039001</td>\n",
              "      <td>0.033498</td>\n",
              "      <td>-0.069851</td>\n",
              "      <td>-0.179175</td>\n",
              "      <td>-0.018267</td>\n",
              "      <td>-0.021764</td>\n",
              "      <td>0.008295</td>\n",
              "      <td>-0.155267</td>\n",
              "      <td>-0.044193</td>\n",
              "      <td>0.049483</td>\n",
              "      <td>0.041023</td>\n",
              "      <td>0.023430</td>\n",
              "      <td>-0.088569</td>\n",
              "      <td>0.072888</td>\n",
              "      <td>-0.032242</td>\n",
              "      <td>0.051952</td>\n",
              "      <td>0.033436</td>\n",
              "      <td>0.114631</td>\n",
              "      <td>0.001541</td>\n",
              "      <td>-0.004320</td>\n",
              "      <td>-0.041464</td>\n",
              "      <td>0.054402</td>\n",
              "      <td>0.090195</td>\n",
              "      <td>0.023408</td>\n",
              "      <td>0.036589</td>\n",
              "      <td>0.139416</td>\n",
              "      <td>-0.076188</td>\n",
              "      <td>-0.091882</td>\n",
              "      <td>0.002008</td>\n",
              "      <td>0.180534</td>\n",
              "      <td>0.084026</td>\n",
              "      <td>-0.089298</td>\n",
              "      <td>-0.040386</td>\n",
              "      <td>0</td>\n",
              "    </tr>\n",
              "    <tr>\n",
              "      <th>1</th>\n",
              "      <td>0.040908</td>\n",
              "      <td>0.066303</td>\n",
              "      <td>-0.018144</td>\n",
              "      <td>-0.108551</td>\n",
              "      <td>-0.012974</td>\n",
              "      <td>0.034679</td>\n",
              "      <td>0.095842</td>\n",
              "      <td>-0.040233</td>\n",
              "      <td>-0.110804</td>\n",
              "      <td>-0.038555</td>\n",
              "      <td>0.065725</td>\n",
              "      <td>-0.086871</td>\n",
              "      <td>0.017319</td>\n",
              "      <td>0.083433</td>\n",
              "      <td>0.001036</td>\n",
              "      <td>-0.009493</td>\n",
              "      <td>0.087523</td>\n",
              "      <td>-0.111428</td>\n",
              "      <td>0.003380</td>\n",
              "      <td>0.038599</td>\n",
              "      <td>-0.003976</td>\n",
              "      <td>-0.038995</td>\n",
              "      <td>-0.016871</td>\n",
              "      <td>0.013472</td>\n",
              "      <td>0.016332</td>\n",
              "      <td>0.064629</td>\n",
              "      <td>0.008395</td>\n",
              "      <td>0.023727</td>\n",
              "      <td>-0.101884</td>\n",
              "      <td>-0.031480</td>\n",
              "      <td>-0.066712</td>\n",
              "      <td>-0.094157</td>\n",
              "      <td>-0.141443</td>\n",
              "      <td>-0.095461</td>\n",
              "      <td>0.000208</td>\n",
              "      <td>0.036343</td>\n",
              "      <td>-0.022869</td>\n",
              "      <td>-0.080716</td>\n",
              "      <td>-0.041594</td>\n",
              "      <td>0.044373</td>\n",
              "      <td>...</td>\n",
              "      <td>0.052794</td>\n",
              "      <td>0.099364</td>\n",
              "      <td>0.070191</td>\n",
              "      <td>-0.120508</td>\n",
              "      <td>-0.086586</td>\n",
              "      <td>0.050022</td>\n",
              "      <td>-0.005083</td>\n",
              "      <td>-0.015210</td>\n",
              "      <td>-0.015906</td>\n",
              "      <td>0.037434</td>\n",
              "      <td>0.029903</td>\n",
              "      <td>-0.034101</td>\n",
              "      <td>-0.025446</td>\n",
              "      <td>0.047895</td>\n",
              "      <td>0.003980</td>\n",
              "      <td>0.011910</td>\n",
              "      <td>0.055740</td>\n",
              "      <td>-0.010118</td>\n",
              "      <td>-0.024989</td>\n",
              "      <td>-0.085246</td>\n",
              "      <td>-0.181209</td>\n",
              "      <td>0.075878</td>\n",
              "      <td>-0.027060</td>\n",
              "      <td>-0.040791</td>\n",
              "      <td>0.060106</td>\n",
              "      <td>-0.068787</td>\n",
              "      <td>-0.105652</td>\n",
              "      <td>0.093088</td>\n",
              "      <td>-0.003742</td>\n",
              "      <td>0.049143</td>\n",
              "      <td>0.105564</td>\n",
              "      <td>0.033579</td>\n",
              "      <td>-0.087006</td>\n",
              "      <td>-0.009284</td>\n",
              "      <td>0.074208</td>\n",
              "      <td>0.073912</td>\n",
              "      <td>0.012430</td>\n",
              "      <td>-0.103870</td>\n",
              "      <td>-0.107352</td>\n",
              "      <td>1</td>\n",
              "    </tr>\n",
              "    <tr>\n",
              "      <th>2</th>\n",
              "      <td>0.100434</td>\n",
              "      <td>0.028003</td>\n",
              "      <td>0.034354</td>\n",
              "      <td>-0.049232</td>\n",
              "      <td>0.009606</td>\n",
              "      <td>-0.057760</td>\n",
              "      <td>-0.002280</td>\n",
              "      <td>-0.078972</td>\n",
              "      <td>-0.019609</td>\n",
              "      <td>0.061580</td>\n",
              "      <td>-0.026178</td>\n",
              "      <td>0.030550</td>\n",
              "      <td>-0.007076</td>\n",
              "      <td>0.060107</td>\n",
              "      <td>0.010681</td>\n",
              "      <td>0.020464</td>\n",
              "      <td>-0.007709</td>\n",
              "      <td>0.001371</td>\n",
              "      <td>-0.020436</td>\n",
              "      <td>0.085592</td>\n",
              "      <td>-0.053642</td>\n",
              "      <td>0.032191</td>\n",
              "      <td>0.089870</td>\n",
              "      <td>-0.057141</td>\n",
              "      <td>0.013429</td>\n",
              "      <td>0.082751</td>\n",
              "      <td>0.005123</td>\n",
              "      <td>0.006735</td>\n",
              "      <td>-0.101353</td>\n",
              "      <td>0.116882</td>\n",
              "      <td>-0.040743</td>\n",
              "      <td>-0.081472</td>\n",
              "      <td>-0.014139</td>\n",
              "      <td>-0.062990</td>\n",
              "      <td>0.072095</td>\n",
              "      <td>-0.002753</td>\n",
              "      <td>0.054406</td>\n",
              "      <td>0.002804</td>\n",
              "      <td>0.005583</td>\n",
              "      <td>0.024076</td>\n",
              "      <td>...</td>\n",
              "      <td>0.108567</td>\n",
              "      <td>-0.046210</td>\n",
              "      <td>0.074468</td>\n",
              "      <td>-0.114307</td>\n",
              "      <td>-0.025746</td>\n",
              "      <td>-0.008466</td>\n",
              "      <td>-0.032797</td>\n",
              "      <td>0.056480</td>\n",
              "      <td>-0.048666</td>\n",
              "      <td>-0.074965</td>\n",
              "      <td>0.010924</td>\n",
              "      <td>-0.057781</td>\n",
              "      <td>0.048056</td>\n",
              "      <td>-0.095289</td>\n",
              "      <td>-0.012094</td>\n",
              "      <td>0.025008</td>\n",
              "      <td>0.083175</td>\n",
              "      <td>-0.004451</td>\n",
              "      <td>-0.027686</td>\n",
              "      <td>-0.003645</td>\n",
              "      <td>-0.052562</td>\n",
              "      <td>0.071217</td>\n",
              "      <td>-0.001122</td>\n",
              "      <td>0.035899</td>\n",
              "      <td>0.049313</td>\n",
              "      <td>-0.042387</td>\n",
              "      <td>-0.029477</td>\n",
              "      <td>0.083396</td>\n",
              "      <td>0.051208</td>\n",
              "      <td>0.019980</td>\n",
              "      <td>0.058136</td>\n",
              "      <td>0.084095</td>\n",
              "      <td>-0.102721</td>\n",
              "      <td>-0.102536</td>\n",
              "      <td>0.040000</td>\n",
              "      <td>0.151290</td>\n",
              "      <td>0.028457</td>\n",
              "      <td>-0.071669</td>\n",
              "      <td>-0.033092</td>\n",
              "      <td>0</td>\n",
              "    </tr>\n",
              "    <tr>\n",
              "      <th>3</th>\n",
              "      <td>-0.099721</td>\n",
              "      <td>0.005617</td>\n",
              "      <td>-0.114904</td>\n",
              "      <td>-0.106221</td>\n",
              "      <td>0.015936</td>\n",
              "      <td>0.011114</td>\n",
              "      <td>0.055873</td>\n",
              "      <td>-0.029234</td>\n",
              "      <td>-0.018206</td>\n",
              "      <td>-0.017140</td>\n",
              "      <td>0.115994</td>\n",
              "      <td>-0.047927</td>\n",
              "      <td>-0.047880</td>\n",
              "      <td>-0.074023</td>\n",
              "      <td>0.031349</td>\n",
              "      <td>-0.075167</td>\n",
              "      <td>0.063695</td>\n",
              "      <td>0.086206</td>\n",
              "      <td>0.020317</td>\n",
              "      <td>0.020224</td>\n",
              "      <td>0.009930</td>\n",
              "      <td>-0.032244</td>\n",
              "      <td>0.074507</td>\n",
              "      <td>0.012240</td>\n",
              "      <td>0.000332</td>\n",
              "      <td>0.077725</td>\n",
              "      <td>-0.063123</td>\n",
              "      <td>0.025585</td>\n",
              "      <td>0.045884</td>\n",
              "      <td>-0.054433</td>\n",
              "      <td>0.116606</td>\n",
              "      <td>-0.026206</td>\n",
              "      <td>0.027842</td>\n",
              "      <td>0.014174</td>\n",
              "      <td>-0.057551</td>\n",
              "      <td>-0.117593</td>\n",
              "      <td>-0.005068</td>\n",
              "      <td>0.008137</td>\n",
              "      <td>0.001784</td>\n",
              "      <td>-0.010760</td>\n",
              "      <td>...</td>\n",
              "      <td>0.071454</td>\n",
              "      <td>-0.006612</td>\n",
              "      <td>-0.076912</td>\n",
              "      <td>-0.040735</td>\n",
              "      <td>0.089481</td>\n",
              "      <td>0.093265</td>\n",
              "      <td>-0.017386</td>\n",
              "      <td>0.071774</td>\n",
              "      <td>0.067275</td>\n",
              "      <td>0.121003</td>\n",
              "      <td>0.043104</td>\n",
              "      <td>0.095455</td>\n",
              "      <td>-0.087733</td>\n",
              "      <td>-0.035375</td>\n",
              "      <td>-0.061092</td>\n",
              "      <td>-0.002220</td>\n",
              "      <td>-0.191240</td>\n",
              "      <td>0.060668</td>\n",
              "      <td>-0.006380</td>\n",
              "      <td>-0.012027</td>\n",
              "      <td>-0.091281</td>\n",
              "      <td>0.056638</td>\n",
              "      <td>0.061428</td>\n",
              "      <td>-0.009382</td>\n",
              "      <td>-0.018966</td>\n",
              "      <td>0.058939</td>\n",
              "      <td>0.046978</td>\n",
              "      <td>-0.008546</td>\n",
              "      <td>-0.007546</td>\n",
              "      <td>-0.044145</td>\n",
              "      <td>0.136885</td>\n",
              "      <td>-0.049080</td>\n",
              "      <td>0.035546</td>\n",
              "      <td>-0.073303</td>\n",
              "      <td>-0.051151</td>\n",
              "      <td>-0.082857</td>\n",
              "      <td>0.067189</td>\n",
              "      <td>0.120173</td>\n",
              "      <td>-0.032508</td>\n",
              "      <td>14</td>\n",
              "    </tr>\n",
              "    <tr>\n",
              "      <th>4</th>\n",
              "      <td>0.039807</td>\n",
              "      <td>-0.001056</td>\n",
              "      <td>-0.050158</td>\n",
              "      <td>-0.035802</td>\n",
              "      <td>0.001427</td>\n",
              "      <td>0.004875</td>\n",
              "      <td>-0.079932</td>\n",
              "      <td>0.064207</td>\n",
              "      <td>-0.046111</td>\n",
              "      <td>0.133473</td>\n",
              "      <td>0.012689</td>\n",
              "      <td>0.001571</td>\n",
              "      <td>0.081494</td>\n",
              "      <td>-0.084567</td>\n",
              "      <td>-0.047840</td>\n",
              "      <td>0.008875</td>\n",
              "      <td>-0.040446</td>\n",
              "      <td>-0.013158</td>\n",
              "      <td>-0.040508</td>\n",
              "      <td>0.001083</td>\n",
              "      <td>-0.046697</td>\n",
              "      <td>-0.093299</td>\n",
              "      <td>-0.046108</td>\n",
              "      <td>0.033318</td>\n",
              "      <td>0.060529</td>\n",
              "      <td>0.018802</td>\n",
              "      <td>-0.067462</td>\n",
              "      <td>-0.003988</td>\n",
              "      <td>0.077370</td>\n",
              "      <td>0.059822</td>\n",
              "      <td>0.026129</td>\n",
              "      <td>-0.028093</td>\n",
              "      <td>0.037076</td>\n",
              "      <td>-0.047139</td>\n",
              "      <td>0.034795</td>\n",
              "      <td>0.009712</td>\n",
              "      <td>-0.004450</td>\n",
              "      <td>-0.009719</td>\n",
              "      <td>-0.009482</td>\n",
              "      <td>0.112084</td>\n",
              "      <td>...</td>\n",
              "      <td>0.070923</td>\n",
              "      <td>-0.048247</td>\n",
              "      <td>-0.025827</td>\n",
              "      <td>0.000410</td>\n",
              "      <td>-0.037971</td>\n",
              "      <td>-0.051787</td>\n",
              "      <td>-0.034733</td>\n",
              "      <td>0.042055</td>\n",
              "      <td>-0.009264</td>\n",
              "      <td>-0.023259</td>\n",
              "      <td>-0.082038</td>\n",
              "      <td>0.045263</td>\n",
              "      <td>-0.116861</td>\n",
              "      <td>-0.064747</td>\n",
              "      <td>0.005318</td>\n",
              "      <td>0.021944</td>\n",
              "      <td>0.044843</td>\n",
              "      <td>0.033129</td>\n",
              "      <td>-0.032188</td>\n",
              "      <td>0.067251</td>\n",
              "      <td>-0.042078</td>\n",
              "      <td>-0.026966</td>\n",
              "      <td>-0.006448</td>\n",
              "      <td>-0.019664</td>\n",
              "      <td>0.047014</td>\n",
              "      <td>-0.029997</td>\n",
              "      <td>-0.087538</td>\n",
              "      <td>0.115637</td>\n",
              "      <td>-0.015439</td>\n",
              "      <td>0.099352</td>\n",
              "      <td>0.042434</td>\n",
              "      <td>0.060196</td>\n",
              "      <td>-0.080725</td>\n",
              "      <td>-0.005297</td>\n",
              "      <td>-0.033026</td>\n",
              "      <td>0.060241</td>\n",
              "      <td>0.032908</td>\n",
              "      <td>-0.028705</td>\n",
              "      <td>-0.110320</td>\n",
              "      <td>0</td>\n",
              "    </tr>\n",
              "    <tr>\n",
              "      <th>...</th>\n",
              "      <td>...</td>\n",
              "      <td>...</td>\n",
              "      <td>...</td>\n",
              "      <td>...</td>\n",
              "      <td>...</td>\n",
              "      <td>...</td>\n",
              "      <td>...</td>\n",
              "      <td>...</td>\n",
              "      <td>...</td>\n",
              "      <td>...</td>\n",
              "      <td>...</td>\n",
              "      <td>...</td>\n",
              "      <td>...</td>\n",
              "      <td>...</td>\n",
              "      <td>...</td>\n",
              "      <td>...</td>\n",
              "      <td>...</td>\n",
              "      <td>...</td>\n",
              "      <td>...</td>\n",
              "      <td>...</td>\n",
              "      <td>...</td>\n",
              "      <td>...</td>\n",
              "      <td>...</td>\n",
              "      <td>...</td>\n",
              "      <td>...</td>\n",
              "      <td>...</td>\n",
              "      <td>...</td>\n",
              "      <td>...</td>\n",
              "      <td>...</td>\n",
              "      <td>...</td>\n",
              "      <td>...</td>\n",
              "      <td>...</td>\n",
              "      <td>...</td>\n",
              "      <td>...</td>\n",
              "      <td>...</td>\n",
              "      <td>...</td>\n",
              "      <td>...</td>\n",
              "      <td>...</td>\n",
              "      <td>...</td>\n",
              "      <td>...</td>\n",
              "      <td>...</td>\n",
              "      <td>...</td>\n",
              "      <td>...</td>\n",
              "      <td>...</td>\n",
              "      <td>...</td>\n",
              "      <td>...</td>\n",
              "      <td>...</td>\n",
              "      <td>...</td>\n",
              "      <td>...</td>\n",
              "      <td>...</td>\n",
              "      <td>...</td>\n",
              "      <td>...</td>\n",
              "      <td>...</td>\n",
              "      <td>...</td>\n",
              "      <td>...</td>\n",
              "      <td>...</td>\n",
              "      <td>...</td>\n",
              "      <td>...</td>\n",
              "      <td>...</td>\n",
              "      <td>...</td>\n",
              "      <td>...</td>\n",
              "      <td>...</td>\n",
              "      <td>...</td>\n",
              "      <td>...</td>\n",
              "      <td>...</td>\n",
              "      <td>...</td>\n",
              "      <td>...</td>\n",
              "      <td>...</td>\n",
              "      <td>...</td>\n",
              "      <td>...</td>\n",
              "      <td>...</td>\n",
              "      <td>...</td>\n",
              "      <td>...</td>\n",
              "      <td>...</td>\n",
              "      <td>...</td>\n",
              "      <td>...</td>\n",
              "      <td>...</td>\n",
              "      <td>...</td>\n",
              "      <td>...</td>\n",
              "      <td>...</td>\n",
              "      <td>...</td>\n",
              "    </tr>\n",
              "    <tr>\n",
              "      <th>49991</th>\n",
              "      <td>0.030210</td>\n",
              "      <td>-0.087831</td>\n",
              "      <td>-0.111369</td>\n",
              "      <td>-0.006596</td>\n",
              "      <td>-0.012221</td>\n",
              "      <td>-0.028953</td>\n",
              "      <td>0.046275</td>\n",
              "      <td>-0.037023</td>\n",
              "      <td>-0.026916</td>\n",
              "      <td>-0.010208</td>\n",
              "      <td>0.069171</td>\n",
              "      <td>0.004878</td>\n",
              "      <td>-0.005648</td>\n",
              "      <td>-0.031371</td>\n",
              "      <td>-0.028218</td>\n",
              "      <td>0.047949</td>\n",
              "      <td>0.066269</td>\n",
              "      <td>0.051030</td>\n",
              "      <td>0.097640</td>\n",
              "      <td>0.160859</td>\n",
              "      <td>0.079032</td>\n",
              "      <td>0.060563</td>\n",
              "      <td>0.058492</td>\n",
              "      <td>0.022448</td>\n",
              "      <td>0.098733</td>\n",
              "      <td>0.012486</td>\n",
              "      <td>-0.026509</td>\n",
              "      <td>-0.036866</td>\n",
              "      <td>0.053246</td>\n",
              "      <td>0.038214</td>\n",
              "      <td>0.059187</td>\n",
              "      <td>-0.091465</td>\n",
              "      <td>0.020883</td>\n",
              "      <td>-0.050372</td>\n",
              "      <td>0.005638</td>\n",
              "      <td>-0.069674</td>\n",
              "      <td>-0.000633</td>\n",
              "      <td>0.142722</td>\n",
              "      <td>0.023814</td>\n",
              "      <td>0.080323</td>\n",
              "      <td>...</td>\n",
              "      <td>-0.030220</td>\n",
              "      <td>-0.018242</td>\n",
              "      <td>0.039534</td>\n",
              "      <td>-0.112252</td>\n",
              "      <td>-0.012329</td>\n",
              "      <td>0.060362</td>\n",
              "      <td>-0.003511</td>\n",
              "      <td>-0.035774</td>\n",
              "      <td>0.056261</td>\n",
              "      <td>-0.033063</td>\n",
              "      <td>-0.056613</td>\n",
              "      <td>-0.057379</td>\n",
              "      <td>-0.042360</td>\n",
              "      <td>-0.010991</td>\n",
              "      <td>-0.122516</td>\n",
              "      <td>-0.085892</td>\n",
              "      <td>-0.000394</td>\n",
              "      <td>0.019637</td>\n",
              "      <td>-0.088439</td>\n",
              "      <td>-0.095243</td>\n",
              "      <td>0.020444</td>\n",
              "      <td>-0.070275</td>\n",
              "      <td>0.052598</td>\n",
              "      <td>0.030129</td>\n",
              "      <td>0.050531</td>\n",
              "      <td>0.095650</td>\n",
              "      <td>0.048490</td>\n",
              "      <td>-0.020328</td>\n",
              "      <td>-0.074019</td>\n",
              "      <td>0.060627</td>\n",
              "      <td>-0.069988</td>\n",
              "      <td>-0.036005</td>\n",
              "      <td>0.062304</td>\n",
              "      <td>-0.022778</td>\n",
              "      <td>0.031080</td>\n",
              "      <td>-0.003237</td>\n",
              "      <td>0.079334</td>\n",
              "      <td>0.038769</td>\n",
              "      <td>0.014254</td>\n",
              "      <td>17</td>\n",
              "    </tr>\n",
              "    <tr>\n",
              "      <th>49992</th>\n",
              "      <td>0.062217</td>\n",
              "      <td>0.045100</td>\n",
              "      <td>-0.139183</td>\n",
              "      <td>-0.027071</td>\n",
              "      <td>0.019617</td>\n",
              "      <td>0.044668</td>\n",
              "      <td>-0.001676</td>\n",
              "      <td>0.038978</td>\n",
              "      <td>0.018281</td>\n",
              "      <td>0.059751</td>\n",
              "      <td>0.045233</td>\n",
              "      <td>0.000439</td>\n",
              "      <td>-0.044911</td>\n",
              "      <td>-0.107067</td>\n",
              "      <td>-0.045763</td>\n",
              "      <td>-0.056814</td>\n",
              "      <td>0.015798</td>\n",
              "      <td>-0.033851</td>\n",
              "      <td>0.031438</td>\n",
              "      <td>0.042875</td>\n",
              "      <td>-0.052967</td>\n",
              "      <td>-0.017642</td>\n",
              "      <td>-0.031063</td>\n",
              "      <td>0.007078</td>\n",
              "      <td>0.105582</td>\n",
              "      <td>0.012037</td>\n",
              "      <td>0.019960</td>\n",
              "      <td>0.020817</td>\n",
              "      <td>0.069374</td>\n",
              "      <td>0.008097</td>\n",
              "      <td>0.052303</td>\n",
              "      <td>-0.002263</td>\n",
              "      <td>0.064390</td>\n",
              "      <td>-0.090951</td>\n",
              "      <td>0.026702</td>\n",
              "      <td>-0.008635</td>\n",
              "      <td>0.006636</td>\n",
              "      <td>-0.070460</td>\n",
              "      <td>0.011006</td>\n",
              "      <td>0.024174</td>\n",
              "      <td>...</td>\n",
              "      <td>0.046049</td>\n",
              "      <td>-0.050594</td>\n",
              "      <td>0.016037</td>\n",
              "      <td>0.041567</td>\n",
              "      <td>-0.082191</td>\n",
              "      <td>0.028530</td>\n",
              "      <td>0.038476</td>\n",
              "      <td>0.098994</td>\n",
              "      <td>0.061611</td>\n",
              "      <td>-0.030555</td>\n",
              "      <td>-0.034713</td>\n",
              "      <td>0.046114</td>\n",
              "      <td>-0.011273</td>\n",
              "      <td>0.041538</td>\n",
              "      <td>0.000488</td>\n",
              "      <td>0.067813</td>\n",
              "      <td>-0.059120</td>\n",
              "      <td>0.060464</td>\n",
              "      <td>0.016893</td>\n",
              "      <td>0.090820</td>\n",
              "      <td>-0.028921</td>\n",
              "      <td>-0.048417</td>\n",
              "      <td>-0.056776</td>\n",
              "      <td>-0.147638</td>\n",
              "      <td>0.019057</td>\n",
              "      <td>0.034896</td>\n",
              "      <td>0.043097</td>\n",
              "      <td>0.045220</td>\n",
              "      <td>-0.015891</td>\n",
              "      <td>0.121837</td>\n",
              "      <td>0.018238</td>\n",
              "      <td>0.012227</td>\n",
              "      <td>-0.081542</td>\n",
              "      <td>0.000847</td>\n",
              "      <td>-0.007818</td>\n",
              "      <td>-0.034679</td>\n",
              "      <td>-0.013218</td>\n",
              "      <td>-0.039165</td>\n",
              "      <td>-0.082814</td>\n",
              "      <td>-1</td>\n",
              "    </tr>\n",
              "    <tr>\n",
              "      <th>49993</th>\n",
              "      <td>0.079681</td>\n",
              "      <td>-0.048755</td>\n",
              "      <td>-0.116971</td>\n",
              "      <td>-0.121159</td>\n",
              "      <td>-0.012617</td>\n",
              "      <td>-0.055259</td>\n",
              "      <td>0.061095</td>\n",
              "      <td>0.074929</td>\n",
              "      <td>-0.036584</td>\n",
              "      <td>-0.020357</td>\n",
              "      <td>0.033401</td>\n",
              "      <td>-0.124355</td>\n",
              "      <td>-0.021037</td>\n",
              "      <td>0.019703</td>\n",
              "      <td>0.008608</td>\n",
              "      <td>-0.030652</td>\n",
              "      <td>-0.053842</td>\n",
              "      <td>-0.040383</td>\n",
              "      <td>0.058234</td>\n",
              "      <td>-0.091539</td>\n",
              "      <td>-0.037212</td>\n",
              "      <td>-0.113492</td>\n",
              "      <td>0.082462</td>\n",
              "      <td>0.064831</td>\n",
              "      <td>0.056979</td>\n",
              "      <td>-0.012934</td>\n",
              "      <td>-0.008823</td>\n",
              "      <td>-0.026657</td>\n",
              "      <td>-0.026378</td>\n",
              "      <td>0.004818</td>\n",
              "      <td>0.088691</td>\n",
              "      <td>-0.013354</td>\n",
              "      <td>-0.052598</td>\n",
              "      <td>-0.038720</td>\n",
              "      <td>0.114941</td>\n",
              "      <td>-0.033595</td>\n",
              "      <td>-0.154571</td>\n",
              "      <td>0.046580</td>\n",
              "      <td>-0.011794</td>\n",
              "      <td>0.010211</td>\n",
              "      <td>...</td>\n",
              "      <td>0.024165</td>\n",
              "      <td>-0.076846</td>\n",
              "      <td>0.088895</td>\n",
              "      <td>-0.181064</td>\n",
              "      <td>0.064220</td>\n",
              "      <td>0.077744</td>\n",
              "      <td>0.090093</td>\n",
              "      <td>-0.020261</td>\n",
              "      <td>0.001683</td>\n",
              "      <td>0.029741</td>\n",
              "      <td>-0.066310</td>\n",
              "      <td>-0.079239</td>\n",
              "      <td>0.028960</td>\n",
              "      <td>-0.022445</td>\n",
              "      <td>0.049423</td>\n",
              "      <td>-0.039147</td>\n",
              "      <td>-0.069439</td>\n",
              "      <td>0.048148</td>\n",
              "      <td>-0.051583</td>\n",
              "      <td>-0.000975</td>\n",
              "      <td>-0.095286</td>\n",
              "      <td>-0.000776</td>\n",
              "      <td>-0.022813</td>\n",
              "      <td>-0.131827</td>\n",
              "      <td>0.023407</td>\n",
              "      <td>0.069059</td>\n",
              "      <td>-0.079039</td>\n",
              "      <td>0.059037</td>\n",
              "      <td>-0.054195</td>\n",
              "      <td>-0.019411</td>\n",
              "      <td>0.077348</td>\n",
              "      <td>0.021048</td>\n",
              "      <td>0.024254</td>\n",
              "      <td>0.050280</td>\n",
              "      <td>-0.012320</td>\n",
              "      <td>0.027132</td>\n",
              "      <td>0.007026</td>\n",
              "      <td>-0.010856</td>\n",
              "      <td>-0.082486</td>\n",
              "      <td>-1</td>\n",
              "    </tr>\n",
              "    <tr>\n",
              "      <th>49994</th>\n",
              "      <td>0.053189</td>\n",
              "      <td>-0.018124</td>\n",
              "      <td>-0.063168</td>\n",
              "      <td>-0.028103</td>\n",
              "      <td>-0.061218</td>\n",
              "      <td>0.054449</td>\n",
              "      <td>0.080881</td>\n",
              "      <td>-0.031910</td>\n",
              "      <td>0.003866</td>\n",
              "      <td>0.072621</td>\n",
              "      <td>0.058714</td>\n",
              "      <td>-0.050911</td>\n",
              "      <td>-0.033523</td>\n",
              "      <td>-0.029107</td>\n",
              "      <td>-0.078218</td>\n",
              "      <td>-0.132732</td>\n",
              "      <td>0.009423</td>\n",
              "      <td>-0.082404</td>\n",
              "      <td>0.088308</td>\n",
              "      <td>0.172601</td>\n",
              "      <td>-0.049005</td>\n",
              "      <td>0.022170</td>\n",
              "      <td>0.034728</td>\n",
              "      <td>-0.025130</td>\n",
              "      <td>0.037120</td>\n",
              "      <td>0.007075</td>\n",
              "      <td>0.054702</td>\n",
              "      <td>0.060993</td>\n",
              "      <td>0.147280</td>\n",
              "      <td>0.055019</td>\n",
              "      <td>-0.007316</td>\n",
              "      <td>-0.100495</td>\n",
              "      <td>-0.053750</td>\n",
              "      <td>0.021072</td>\n",
              "      <td>0.077538</td>\n",
              "      <td>-0.028640</td>\n",
              "      <td>-0.068974</td>\n",
              "      <td>-0.066267</td>\n",
              "      <td>0.034785</td>\n",
              "      <td>0.087750</td>\n",
              "      <td>...</td>\n",
              "      <td>0.126282</td>\n",
              "      <td>0.070641</td>\n",
              "      <td>0.056081</td>\n",
              "      <td>-0.044192</td>\n",
              "      <td>-0.027561</td>\n",
              "      <td>0.064164</td>\n",
              "      <td>-0.022470</td>\n",
              "      <td>0.006064</td>\n",
              "      <td>0.146305</td>\n",
              "      <td>-0.007977</td>\n",
              "      <td>0.058827</td>\n",
              "      <td>0.032556</td>\n",
              "      <td>0.050300</td>\n",
              "      <td>0.047615</td>\n",
              "      <td>-0.029125</td>\n",
              "      <td>0.043372</td>\n",
              "      <td>-0.039968</td>\n",
              "      <td>0.022957</td>\n",
              "      <td>0.062702</td>\n",
              "      <td>-0.146284</td>\n",
              "      <td>-0.095934</td>\n",
              "      <td>-0.031089</td>\n",
              "      <td>0.066787</td>\n",
              "      <td>-0.054576</td>\n",
              "      <td>-0.052376</td>\n",
              "      <td>-0.012610</td>\n",
              "      <td>0.026984</td>\n",
              "      <td>0.014725</td>\n",
              "      <td>0.031658</td>\n",
              "      <td>0.114372</td>\n",
              "      <td>0.118517</td>\n",
              "      <td>-0.012938</td>\n",
              "      <td>-0.096851</td>\n",
              "      <td>-0.029713</td>\n",
              "      <td>0.074890</td>\n",
              "      <td>-0.010413</td>\n",
              "      <td>0.007683</td>\n",
              "      <td>-0.046540</td>\n",
              "      <td>-0.076542</td>\n",
              "      <td>-1</td>\n",
              "    </tr>\n",
              "    <tr>\n",
              "      <th>49995</th>\n",
              "      <td>0.082631</td>\n",
              "      <td>0.013464</td>\n",
              "      <td>-0.128309</td>\n",
              "      <td>-0.024614</td>\n",
              "      <td>-0.024702</td>\n",
              "      <td>-0.016789</td>\n",
              "      <td>0.077067</td>\n",
              "      <td>0.032870</td>\n",
              "      <td>-0.027283</td>\n",
              "      <td>0.021789</td>\n",
              "      <td>0.028731</td>\n",
              "      <td>0.002051</td>\n",
              "      <td>-0.015377</td>\n",
              "      <td>-0.074612</td>\n",
              "      <td>-0.056942</td>\n",
              "      <td>-0.078695</td>\n",
              "      <td>-0.072804</td>\n",
              "      <td>-0.003837</td>\n",
              "      <td>0.025618</td>\n",
              "      <td>0.028294</td>\n",
              "      <td>-0.030354</td>\n",
              "      <td>-0.028562</td>\n",
              "      <td>0.062780</td>\n",
              "      <td>0.034880</td>\n",
              "      <td>0.115655</td>\n",
              "      <td>0.041091</td>\n",
              "      <td>-0.008968</td>\n",
              "      <td>-0.062777</td>\n",
              "      <td>0.102221</td>\n",
              "      <td>0.076091</td>\n",
              "      <td>0.030185</td>\n",
              "      <td>0.000900</td>\n",
              "      <td>0.081308</td>\n",
              "      <td>-0.019174</td>\n",
              "      <td>0.012588</td>\n",
              "      <td>0.018690</td>\n",
              "      <td>-0.035837</td>\n",
              "      <td>0.011237</td>\n",
              "      <td>-0.016822</td>\n",
              "      <td>0.003850</td>\n",
              "      <td>...</td>\n",
              "      <td>-0.016009</td>\n",
              "      <td>-0.056248</td>\n",
              "      <td>-0.085152</td>\n",
              "      <td>-0.048382</td>\n",
              "      <td>0.005019</td>\n",
              "      <td>0.034813</td>\n",
              "      <td>-0.023484</td>\n",
              "      <td>0.007784</td>\n",
              "      <td>0.067583</td>\n",
              "      <td>-0.016805</td>\n",
              "      <td>-0.093015</td>\n",
              "      <td>0.080539</td>\n",
              "      <td>-0.067589</td>\n",
              "      <td>-0.019720</td>\n",
              "      <td>-0.037159</td>\n",
              "      <td>0.069993</td>\n",
              "      <td>-0.080112</td>\n",
              "      <td>-0.006595</td>\n",
              "      <td>0.007302</td>\n",
              "      <td>0.019826</td>\n",
              "      <td>-0.010830</td>\n",
              "      <td>-0.072536</td>\n",
              "      <td>-0.014977</td>\n",
              "      <td>-0.076886</td>\n",
              "      <td>-0.014315</td>\n",
              "      <td>0.004322</td>\n",
              "      <td>-0.042118</td>\n",
              "      <td>0.017214</td>\n",
              "      <td>-0.002506</td>\n",
              "      <td>0.074193</td>\n",
              "      <td>0.007698</td>\n",
              "      <td>-0.024841</td>\n",
              "      <td>-0.024166</td>\n",
              "      <td>-0.059368</td>\n",
              "      <td>-0.048466</td>\n",
              "      <td>0.022715</td>\n",
              "      <td>0.037110</td>\n",
              "      <td>-0.006758</td>\n",
              "      <td>-0.086731</td>\n",
              "      <td>0</td>\n",
              "    </tr>\n",
              "  </tbody>\n",
              "</table>\n",
              "<p>49996 rows × 101 columns</p>\n",
              "</div>"
            ],
            "text/plain": [
              "              0         1         2  ...        98        99  label\n",
              "0      0.104329  0.004700  0.008771  ... -0.089298 -0.040386      0\n",
              "1      0.040908  0.066303 -0.018144  ... -0.103870 -0.107352      1\n",
              "2      0.100434  0.028003  0.034354  ... -0.071669 -0.033092      0\n",
              "3     -0.099721  0.005617 -0.114904  ...  0.120173 -0.032508     14\n",
              "4      0.039807 -0.001056 -0.050158  ... -0.028705 -0.110320      0\n",
              "...         ...       ...       ...  ...       ...       ...    ...\n",
              "49991  0.030210 -0.087831 -0.111369  ...  0.038769  0.014254     17\n",
              "49992  0.062217  0.045100 -0.139183  ... -0.039165 -0.082814     -1\n",
              "49993  0.079681 -0.048755 -0.116971  ... -0.010856 -0.082486     -1\n",
              "49994  0.053189 -0.018124 -0.063168  ... -0.046540 -0.076542     -1\n",
              "49995  0.082631  0.013464 -0.128309  ... -0.006758 -0.086731      0\n",
              "\n",
              "[49996 rows x 101 columns]"
            ]
          },
          "metadata": {
            "tags": []
          },
          "execution_count": 53
        }
      ]
    },
    {
      "cell_type": "markdown",
      "metadata": {
        "id": "5gsd4DPAlJw9"
      },
      "source": [
        "----------------------------------------------\r\n",
        "\r\n",
        "Lets make a Dictionary to store the mean vector of each category:\r\n"
      ]
    },
    {
      "cell_type": "code",
      "metadata": {
        "id": "Y_UeWdC3gkiW"
      },
      "source": [
        "# keys -> cluster_number\r\n",
        "# values -> mean vector of that cluster\r\n",
        "\r\n",
        "category_vectors = {i:sampled_data[sampled_data['label'] == i].iloc[:,0:100].mean() for i in range(21)}"
      ],
      "execution_count": 55,
      "outputs": []
    },
    {
      "cell_type": "markdown",
      "metadata": {
        "id": "VsdQCCkklsdX"
      },
      "source": [
        "Now Lets observe what category each cluster represents"
      ]
    },
    {
      "cell_type": "code",
      "metadata": {
        "colab": {
          "base_uri": "https://localhost:8080/"
        },
        "id": "G4Og0COzgkk-",
        "outputId": "42b0c697-abe7-47d6-8750-c371c86c53de"
      },
      "source": [
        "w2v.similar_by_vector(category_vectors[1].values)"
      ],
      "execution_count": 70,
      "outputs": [
        {
          "output_type": "stream",
          "text": [
            "/usr/local/lib/python3.6/dist-packages/ipykernel_launcher.py:1: DeprecationWarning: Call to deprecated `similar_by_vector` (Method will be removed in 4.0.0, use self.wv.similar_by_vector() instead).\n",
            "  \"\"\"Entry point for launching an IPython kernel.\n"
          ],
          "name": "stderr"
        },
        {
          "output_type": "execute_result",
          "data": {
            "text/plain": [
              "[('آنتا', 0.8282709121704102),\n",
              " ('کفش', 0.8101304173469543),\n",
              " ('اسکچرز', 0.8098382949829102),\n",
              " ('لتون', 0.7993772625923157),\n",
              " ('GOwalk', 0.7919614911079407),\n",
              " ('دویدن', 0.791439950466156),\n",
              " ('جوما', 0.7885371446609497),\n",
              " ('MIRACLE', 0.7884770631790161),\n",
              " ('Stan', 0.7880978584289551),\n",
              " ('Adipure', 0.7869611978530884)]"
            ]
          },
          "metadata": {
            "tags": []
          },
          "execution_count": 70
        }
      ]
    },
    {
      "cell_type": "markdown",
      "metadata": {
        "id": "TCwiUOy_l5oP"
      },
      "source": [
        "Cluster 1 is mostly related to **shoes and sneakers**"
      ]
    },
    {
      "cell_type": "code",
      "metadata": {
        "colab": {
          "base_uri": "https://localhost:8080/"
        },
        "id": "5GGx9ZTHl4-p",
        "outputId": "37074edd-2a01-47fe-dd3e-62e774dfcec5"
      },
      "source": [
        "w2v.similar_by_vector(category_vectors[2].values)"
      ],
      "execution_count": 71,
      "outputs": [
        {
          "output_type": "stream",
          "text": [
            "/usr/local/lib/python3.6/dist-packages/ipykernel_launcher.py:1: DeprecationWarning: Call to deprecated `similar_by_vector` (Method will be removed in 4.0.0, use self.wv.similar_by_vector() instead).\n",
            "  \"\"\"Entry point for launching an IPython kernel.\n"
          ],
          "name": "stderr"
        },
        {
          "output_type": "execute_result",
          "data": {
            "text/plain": [
              "[('پولوشرت', 0.8204652667045593),\n",
              " ('لگینگ', 0.8073954582214355),\n",
              " ('سوییشرت', 0.781952977180481),\n",
              " ('شومیز', 0.7767382860183716),\n",
              " ('آستین', 0.7760021686553955),\n",
              " ('زنانه', 0.7684909105300903),\n",
              " ('شلوارهای', 0.7680611610412598),\n",
              " ('استین', 0.763431191444397),\n",
              " ('گارودی', 0.7625313401222229),\n",
              " ('یوپیم', 0.7618343830108643)]"
            ]
          },
          "metadata": {
            "tags": []
          },
          "execution_count": 71
        }
      ]
    },
    {
      "cell_type": "markdown",
      "metadata": {
        "id": "_jN0EXnYgIjy"
      },
      "source": [
        "Cluster 1 is mostly related to **shirts and T-shirts**"
      ]
    },
    {
      "cell_type": "code",
      "metadata": {
        "colab": {
          "base_uri": "https://localhost:8080/"
        },
        "id": "5zkLutfKmgoB",
        "outputId": "b2db3e2a-36b0-4164-ea95-9ce0cb9ea0d7"
      },
      "source": [
        "w2v.similar_by_vector(category_vectors[3].values)"
      ],
      "execution_count": 73,
      "outputs": [
        {
          "output_type": "stream",
          "text": [
            "/usr/local/lib/python3.6/dist-packages/ipykernel_launcher.py:1: DeprecationWarning: Call to deprecated `similar_by_vector` (Method will be removed in 4.0.0, use self.wv.similar_by_vector() instead).\n",
            "  \"\"\"Entry point for launching an IPython kernel.\n"
          ],
          "name": "stderr"
        },
        {
          "output_type": "execute_result",
          "data": {
            "text/plain": [
              "[('عقیق', 0.9040893316268921),\n",
              " ('سنگ', 0.9008742570877075),\n",
              " ('جاسپر', 0.872017502784729),\n",
              " ('لاجورد', 0.8685940504074097),\n",
              " ('یمنی', 0.8574920892715454),\n",
              " ('حدید', 0.8561422824859619),\n",
              " ('توپاز', 0.852693498134613),\n",
              " ('جید', 0.8464436531066895),\n",
              " ('زبرجد', 0.8456164598464966),\n",
              " ('یشم', 0.8388755917549133)]"
            ]
          },
          "metadata": {
            "tags": []
          },
          "execution_count": 73
        }
      ]
    },
    {
      "cell_type": "markdown",
      "metadata": {
        "id": "s7TC_oWHmguy"
      },
      "source": [
        "Cluster 3 is mostly related to **Jewelries**"
      ]
    },
    {
      "cell_type": "code",
      "metadata": {
        "colab": {
          "base_uri": "https://localhost:8080/"
        },
        "id": "y_x7wx_Umg1A",
        "outputId": "539a852f-149f-4d71-d285-0f661b1ca9ed"
      },
      "source": [
        "w2v.similar_by_vector(category_vectors[4].values)"
      ],
      "execution_count": 74,
      "outputs": [
        {
          "output_type": "stream",
          "text": [
            "/usr/local/lib/python3.6/dist-packages/ipykernel_launcher.py:1: DeprecationWarning: Call to deprecated `similar_by_vector` (Method will be removed in 4.0.0, use self.wv.similar_by_vector() instead).\n",
            "  \"\"\"Entry point for launching an IPython kernel.\n"
          ],
          "name": "stderr"
        },
        {
          "output_type": "execute_result",
          "data": {
            "text/plain": [
              "[('مچی', 0.9377319812774658),\n",
              " ('عقربه', 0.9000678062438965),\n",
              " ('رومانسون', 0.8393601179122925),\n",
              " ('تیسوت', 0.8369371891021729),\n",
              " ('کاندینو', 0.8204541206359863),\n",
              " ('رادو', 0.80576092004776),\n",
              " ('وستار', 0.7946540117263794),\n",
              " ('ارنشا', 0.7935017943382263),\n",
              " ('ساعت', 0.7934136390686035),\n",
              " ('کورنوگراف', 0.7931046485900879)]"
            ]
          },
          "metadata": {
            "tags": []
          },
          "execution_count": 74
        }
      ]
    },
    {
      "cell_type": "markdown",
      "metadata": {
        "id": "gRsiCwgpmg6H"
      },
      "source": [
        "Cluster 4 is mostly related to **watches**"
      ]
    },
    {
      "cell_type": "code",
      "metadata": {
        "colab": {
          "base_uri": "https://localhost:8080/"
        },
        "id": "NER8kLvcmg_N",
        "outputId": "a9791ccb-e560-4994-be75-82ee6b1d9235"
      },
      "source": [
        "w2v.similar_by_vector(category_vectors[5].values)"
      ],
      "execution_count": 81,
      "outputs": [
        {
          "output_type": "stream",
          "text": [
            "/usr/local/lib/python3.6/dist-packages/ipykernel_launcher.py:1: DeprecationWarning: Call to deprecated `similar_by_vector` (Method will be removed in 4.0.0, use self.wv.similar_by_vector() instead).\n",
            "  \"\"\"Entry point for launching an IPython kernel.\n"
          ],
          "name": "stderr"
        },
        {
          "output_type": "execute_result",
          "data": {
            "text/plain": [
              "[('آفتابی', 0.9218425750732422),\n",
              " ('عینک', 0.8751509785652161),\n",
              " ('گس', 0.8617125749588013),\n",
              " ('لوزا', 0.8555668592453003),\n",
              " ('Guess', 0.8477016687393188),\n",
              " ('ویفرر', 0.8250023126602173),\n",
              " ('خلبانی', 0.8060670495033264),\n",
              " ('گانت', 0.7998471260070801),\n",
              " ('Lozza', 0.7979069352149963),\n",
              " ('مارسیانو', 0.7897413969039917)]"
            ]
          },
          "metadata": {
            "tags": []
          },
          "execution_count": 81
        }
      ]
    },
    {
      "cell_type": "markdown",
      "metadata": {
        "id": "DgohLISAmhEA"
      },
      "source": [
        "Cluster 5 is mostly related to **glasses**"
      ]
    },
    {
      "cell_type": "code",
      "metadata": {
        "colab": {
          "base_uri": "https://localhost:8080/"
        },
        "id": "FIbAPlXJmhIt",
        "outputId": "3e8ffbbc-e881-44b7-dd8f-29989b85a930"
      },
      "source": [
        "w2v.similar_by_vector(category_vectors[7].values)"
      ],
      "execution_count": 79,
      "outputs": [
        {
          "output_type": "stream",
          "text": [
            "/usr/local/lib/python3.6/dist-packages/ipykernel_launcher.py:1: DeprecationWarning: Call to deprecated `similar_by_vector` (Method will be removed in 4.0.0, use self.wv.similar_by_vector() instead).\n",
            "  \"\"\"Entry point for launching an IPython kernel.\n"
          ],
          "name": "stderr"
        },
        {
          "output_type": "execute_result",
          "data": {
            "text/plain": [
              "[('دستبافت', 0.8946883678436279),\n",
              " ('فرش', 0.8334887027740479),\n",
              " ('دستباف', 0.8166359066963196),\n",
              " ('فرشی', 0.8125796914100647),\n",
              " ('قالیچه', 0.7949178218841553),\n",
              " ('ذرع', 0.7776476740837097),\n",
              " ('وینتیج', 0.7720241546630859),\n",
              " ('کلاژ', 0.7603014707565308),\n",
              " ('گلیم', 0.753655731678009),\n",
              " ('کلاژفرش', 0.7505193948745728)]"
            ]
          },
          "metadata": {
            "tags": []
          },
          "execution_count": 79
        }
      ]
    },
    {
      "cell_type": "markdown",
      "metadata": {
        "id": "KuzBJYcWmhNT"
      },
      "source": [
        "Cluster 7 is mostly related to **Carpets and rugs**"
      ]
    },
    {
      "cell_type": "code",
      "metadata": {
        "id": "0XjH7DhQqQIo",
        "colab": {
          "base_uri": "https://localhost:8080/"
        },
        "outputId": "a268e268-7576-4cea-cadc-b2d06a47ee82"
      },
      "source": [
        "w2v.similar_by_vector(category_vectors[8].values)"
      ],
      "execution_count": 84,
      "outputs": [
        {
          "output_type": "stream",
          "text": [
            "/usr/local/lib/python3.6/dist-packages/ipykernel_launcher.py:1: DeprecationWarning: Call to deprecated `similar_by_vector` (Method will be removed in 4.0.0, use self.wv.similar_by_vector() instead).\n",
            "  \"\"\"Entry point for launching an IPython kernel.\n"
          ],
          "name": "stderr"
        },
        {
          "output_type": "execute_result",
          "data": {
            "text/plain": [
              "[('دربارهی', 0.9136397242546082),\n",
              " ('بازنویسی', 0.907249927520752),\n",
              " ('دیباچه', 0.8991974592208862),\n",
              " ('تئاتری', 0.8953952789306641),\n",
              " ('آموزگار', 0.8933660984039307),\n",
              " ('ژرفای', 0.8933285474777222),\n",
              " ('تفحص', 0.8926522135734558),\n",
              " ('شرحی', 0.8919925689697266),\n",
              " ('رهگذر', 0.8880715370178223),\n",
              " ('صوفیه', 0.8860899209976196)]"
            ]
          },
          "metadata": {
            "tags": []
          },
          "execution_count": 84
        }
      ]
    },
    {
      "cell_type": "markdown",
      "metadata": {
        "id": "SBfmfJ8Dn2Ir"
      },
      "source": [
        "it seems that Cluster 8 is mostly related to **literature** "
      ]
    },
    {
      "cell_type": "code",
      "metadata": {
        "colab": {
          "base_uri": "https://localhost:8080/"
        },
        "id": "oZNuqU-Cn2Ob",
        "outputId": "5a9054a9-127b-4516-a070-c367ed52ffe8"
      },
      "source": [
        "w2v.similar_by_vector(category_vectors[9].values,20)"
      ],
      "execution_count": 86,
      "outputs": [
        {
          "output_type": "stream",
          "text": [
            "/usr/local/lib/python3.6/dist-packages/ipykernel_launcher.py:1: DeprecationWarning: Call to deprecated `similar_by_vector` (Method will be removed in 4.0.0, use self.wv.similar_by_vector() instead).\n",
            "  \"\"\"Entry point for launching an IPython kernel.\n"
          ],
          "name": "stderr"
        },
        {
          "output_type": "execute_result",
          "data": {
            "text/plain": [
              "[('ماگ', 0.9034676551818848),\n",
              " ('لومانا', 0.8311771154403687),\n",
              " ('استارباکس', 0.7998494505882263),\n",
              " ('ماگستان', 0.7998427748680115),\n",
              " ('سپاهانی', 0.7942887544631958),\n",
              " ('pm_', 0.7738790512084961),\n",
              " ('Mickep', 0.7631633281707764),\n",
              " ('ریجینال', 0.7582796812057495),\n",
              " ('بزگتری', 0.7497599124908447),\n",
              " ('Sarah', 0.742853045463562),\n",
              " ('ماگهای', 0.7383413314819336),\n",
              " ('مسافرتیمینی', 0.7361195087432861),\n",
              " ('رنگارشاپ', 0.7297502756118774),\n",
              " ('Prıncess', 0.7293574213981628),\n",
              " ('انارچاپ', 0.7258710861206055),\n",
              " ('ماگی', 0.7156023383140564),\n",
              " ('سینایا', 0.6999820470809937),\n",
              " ('Capricorn', 0.6984260678291321),\n",
              " ('فالومی', 0.6982779502868652),\n",
              " ('bookD', 0.697514533996582)]"
            ]
          },
          "metadata": {
            "tags": []
          },
          "execution_count": 86
        }
      ]
    },
    {
      "cell_type": "markdown",
      "metadata": {
        "id": "4epJniJUn2Si"
      },
      "source": [
        "it seems that Cluster 8 is mostly related to **Mugs** and so on ...\r\n",
        "\r\n",
        "we should do this observations for all 20 clusters"
      ]
    },
    {
      "cell_type": "markdown",
      "metadata": {
        "id": "wNVXSA9fn2cQ"
      },
      "source": [
        "Finally to predict a new product's category:\r\n",
        "\r\n",
        "* first we should create a dictionary, mapping all the clusters to its observed category as above.\r\n",
        "* then we should get the new products sentence vectoor by averaging its title's word vectors\r\n",
        "* and at last finding the most similar category vector to the new products sentence vector"
      ]
    },
    {
      "cell_type": "code",
      "metadata": {
        "id": "3sRCIXgRn2hb"
      },
      "source": [
        "category_cluster_map = {1:'shoes', 2:'clothes', 3:'jewelries',4: 'watches' , 5:'glasses'}\r\n",
        "\r\n",
        "def predict_category(product_title):\r\n",
        "  tokens = preprocess(product_title)\r\n",
        "\r\n",
        "  sentence_vector = np.zeros(100,)\r\n",
        "  token_num = 0\r\n",
        "  for token in tokens:\r\n",
        "    if token in w2v.wv.vocab:\r\n",
        "      vector = w2v.wv[token]\r\n",
        "      token_num += 1\r\n",
        "      sentence_vector += vector\r\n",
        "    else:\r\n",
        "      continue\r\n",
        "  \r\n",
        "  sentence_vector = sentence_vector/token_num    # averaging over words of the sentence\r\n",
        "\r\n",
        "  most_similar_vector = None\r\n",
        "  most_similar_cluster = None\r\n",
        "  max_similarity = 0\r\n",
        "  for cluster in category_cluster_map.keys():\r\n",
        "    cluster_vector = category_vectors[cluster]\r\n",
        "    if w2v.wv.similarity(cluster_vector , sentence_vector) > max_similarity:\r\n",
        "      max_similarity = w2v.wv.similarity(cluster_vector , sentence_vector)\r\n",
        "      most_similar_cluster = cluster\r\n",
        "      most_similar_vector = cluster_vector\r\n",
        "  \r\n",
        "  return(category_cluster_map[most_similar_cluster])\r\n",
        "\r\n",
        "\r\n",
        "\r\n"
      ],
      "execution_count": null,
      "outputs": []
    },
    {
      "cell_type": "markdown",
      "metadata": {
        "id": "D3JrKRo5n2n4"
      },
      "source": [
        ""
      ]
    },
    {
      "cell_type": "code",
      "metadata": {
        "id": "OO6fwaK7kQ8V"
      },
      "source": [
        ""
      ],
      "execution_count": null,
      "outputs": []
    }
  ]
}